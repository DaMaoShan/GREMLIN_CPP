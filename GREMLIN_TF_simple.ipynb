{
  "nbformat": 4,
  "nbformat_minor": 0,
  "metadata": {
    "colab": {
      "name": "GREMLIN_TF_simple.ipynb",
      "version": "0.3.2",
      "provenance": [],
      "collapsed_sections": [],
      "include_colab_link": true
    },
    "kernelspec": {
      "name": "python3",
      "display_name": "Python 3"
    },
    "accelerator": "GPU"
  },
  "cells": [
    {
      "cell_type": "markdown",
      "metadata": {
        "id": "view-in-github",
        "colab_type": "text"
      },
      "source": [
        "<a href=\"https://colab.research.google.com/github/sokrypton/GREMLIN_CPP/blob/master/GREMLIN_TF_simple.ipynb\" target=\"_parent\"><img src=\"https://colab.research.google.com/assets/colab-badge.svg\" alt=\"Open In Colab\"/></a>"
      ]
    },
    {
      "metadata": {
        "id": "3SHD25hwV_FA",
        "colab_type": "text"
      },
      "cell_type": "markdown",
      "source": [
        "## GREMLIN_simple\n",
        "\n",
        "This is a bare minimum version of GREMLIN (no sequence weighting, gap removal, etc), intended for educational/demo purposes.  For the full version see [GREMLIN_TF_v2.1](https://colab.research.google.com/github/sokrypton/GREMLIN_CPP/blob/master/GREMLIN_TF.ipynb) "
      ]
    },
    {
      "metadata": {
        "id": "dyhXMSv5HbpK",
        "colab_type": "code",
        "colab": {}
      },
      "cell_type": "code",
      "source": [
        "# ------------------------------------------------------------\n",
        "# \"THE BEERWARE LICENSE\" (Revision 42):\n",
        "# <so@g.harvard.edu> and <pkk382@g.harvard.edu> wrote this code.\n",
        "# As long as you retain this notice, you can do whatever you want\n",
        "# with this stuff. If we meet someday, and you think this stuff\n",
        "# is worth it, you can buy us a beer in return.\n",
        "# --Sergey Ovchinnikov and Peter Koo\n",
        "# ------------------------------------------------------------"
      ],
      "execution_count": 0,
      "outputs": []
    },
    {
      "metadata": {
        "id": "ZdGBxCYlURSw",
        "colab_type": "text"
      },
      "cell_type": "markdown",
      "source": [
        "## Load some libraries"
      ]
    },
    {
      "metadata": {
        "id": "aJcHKRLQQAS4",
        "colab_type": "code",
        "colab": {}
      },
      "cell_type": "code",
      "source": [
        "import numpy as np\n",
        "import tensorflow as tf\n",
        "import matplotlib.pylab as plt"
      ],
      "execution_count": 0,
      "outputs": []
    },
    {
      "metadata": {
        "id": "ijbQXxzlYKAk",
        "colab_type": "text"
      },
      "cell_type": "markdown",
      "source": [
        "## Convert FASTA to MSA np.array()"
      ]
    },
    {
      "metadata": {
        "id": "wU8Gzh1FQEZl",
        "colab_type": "code",
        "colab": {}
      },
      "cell_type": "code",
      "source": [
        "def parse_fasta(filename):\n",
        "  '''function to parse fasta file'''\n",
        "  header = []\n",
        "  sequence = []\n",
        "  lines = open(filename, \"r\")\n",
        "  for line in lines:\n",
        "    line = line.rstrip()\n",
        "    if line[0] == \">\":\n",
        "      header.append(line[1:])\n",
        "      sequence.append([])\n",
        "    else:\n",
        "      sequence[-1].append(line)\n",
        "  lines.close()\n",
        "  sequence = [''.join(seq) for seq in sequence]\n",
        "  return np.array(header), np.array(sequence)\n",
        "\n",
        "################\n",
        "alphabet = \"ARNDCQEGHILKMFPSTWYV-\"\n",
        "states = len(alphabet)\n",
        "a2n = {}\n",
        "for a,n in zip(alphabet,range(states)):\n",
        "  a2n[a] = n\n",
        "################\n",
        "\n",
        "def aa2num(aa):\n",
        "  '''convert aa into num'''\n",
        "  if aa in a2n: return a2n[aa]\n",
        "  else: return a2n['-']\n",
        "  \n",
        "def mk_msa(seqs):\n",
        "  '''one hot encode msa'''\n",
        "  msa = []\n",
        "  for seq in seqs:\n",
        "    msa.append([aa2num(aa) for aa in seq])\n",
        "  msa_ori = np.array(msa)\n",
        "  return msa_ori, tf.keras.utils.to_categorical(msa_ori,states)"
      ],
      "execution_count": 0,
      "outputs": []
    },
    {
      "metadata": {
        "id": "z8j_kpFSUeFT",
        "colab_type": "text"
      },
      "cell_type": "markdown",
      "source": [
        "## load example"
      ]
    },
    {
      "metadata": {
        "id": "Nn5oow4zP9ht",
        "colab_type": "code",
        "colab": {}
      },
      "cell_type": "code",
      "source": [
        "!wget -q -nc https://gremlin2.bakerlab.org/db/PDB_EXP/fasta/4FAZA.fas"
      ],
      "execution_count": 0,
      "outputs": []
    },
    {
      "metadata": {
        "id": "ipoWnWOCQryY",
        "colab_type": "code",
        "outputId": "9dc051eb-e300-4a96-d14d-d372cca1fb97",
        "colab": {
          "base_uri": "https://localhost:8080/",
          "height": 51
        }
      },
      "cell_type": "code",
      "source": [
        "names,seqs = parse_fasta(\"4FAZA.fas\")\n",
        "msa_ori, msa = mk_msa(seqs)\n",
        "\n",
        "print(msa_ori.shape)\n",
        "print(msa.shape)"
      ],
      "execution_count": 5,
      "outputs": [
        {
          "output_type": "stream",
          "text": [
            "(817, 62)\n",
            "(817, 62, 21)\n"
          ],
          "name": "stdout"
        }
      ]
    },
    {
      "metadata": {
        "id": "eNAbmgeOQ1UK",
        "colab_type": "text"
      },
      "cell_type": "markdown",
      "source": [
        "## GREMLIN\n",
        "GREMLIN is technically an \"autoencoder\" with a single dense (or fully-connected) layer between the input and output, with no hidden variables. GREMLIN tries to minimize the difference between the input and output.  The \"latent\" variables are the (w)eights/(b)ias of the dense layer.\n",
        "\n",
        "* loss = categorical_crossentropy(msa,  softmax(dot(msa, w) + b))\n",
        " - the math is identical to computing the \"pseudolikelihood\" as in GREMLIN()\n",
        " \n",
        "* msa\n",
        " - msa.shape = (batch, L x 21)\n",
        " - 21 =  (20 amino acids + 1 gap) categories\n",
        "* w = weight\n",
        " - w.shape = (L x 21, L x 21)\n",
        " -  aka two-body term of the MRF (aka co-evolution)\n",
        " -  note: the w matrix is symmetrized and the diagional is set to zero\n",
        "* b = bias \n",
        " - b.shape = (L x 21)\n",
        " - aka one-body-term of the MRF (aka conservation)"
      ]
    },
    {
      "metadata": {
        "id": "bYFxhwGoQxyT",
        "colab_type": "code",
        "colab": {}
      },
      "cell_type": "code",
      "source": [
        "def GREMLIN_simple(msa, opt_iter=100):\n",
        "  \n",
        "  # collecting some information about input msa\n",
        "  nrow = msa.shape[0] # number of sequences\n",
        "  ncol = msa.shape[1] # length of sequence\n",
        "\n",
        "  # kill any existing tensorflow graph\n",
        "  tf.reset_default_graph()\n",
        "\n",
        "  # setting up weights\n",
        "  b = tf.get_variable(\"b\", [ncol,states])\n",
        "  w = tf.get_variable(\"w\", [ncol,states,ncol,states], \n",
        "                      initializer=tf.initializers.zeros)\n",
        "\n",
        "  # symmetrize w\n",
        "  w = w * np.reshape(1-np.eye(ncol),(ncol,1,ncol,1))\n",
        "  w = w + tf.transpose(w,[2,3,0,1])\n",
        "  \n",
        "  # input\n",
        "  MSA = tf.placeholder(tf.float32,shape=(None,ncol,states),name=\"msa\")\n",
        "\n",
        "  # dense layer + softmax activation\n",
        "  MSA_pred = tf.nn.softmax(tf.tensordot(MSA,w,2)+b,-1)\n",
        "\n",
        "  # loss = categorical crossentropy (aka pseudo-likelihood)\n",
        "  loss = tf.reduce_sum(tf.keras.losses.categorical_crossentropy(MSA,MSA_pred))\n",
        "\n",
        "  # add L2 regularization\n",
        "  reg_b = 0.01 * tf.reduce_sum(tf.square(b))\n",
        "  reg_w = 0.01 * tf.reduce_sum(tf.square(w)) * 0.5 * (ncol-1) * (states-1)\n",
        "  loss = loss + reg_b + reg_w\n",
        "\n",
        "  # setup optimizer\n",
        "  learning_rate = 0.1 * np.log(nrow)/ncol\n",
        "  opt = tf.train.AdamOptimizer(learning_rate).minimize(loss)\n",
        "\n",
        "  # optimize!\n",
        "  with tf.Session() as sess:\n",
        "    sess.run(tf.global_variables_initializer())\n",
        "\n",
        "    # initialize bias\n",
        "    pc = 0.01 * np.log(nrow)\n",
        "    b_ini = np.log(np.sum(msa,0) + pc)\n",
        "    b_ini = b_ini - np.mean(b_ini,-1,keepdims=True)\n",
        "    sess.run(b.assign(b_ini))\n",
        "    \n",
        "    print(\"starting\",sess.run(loss,{MSA:msa}))\n",
        "\n",
        "    for i in range(opt_iter):\n",
        "      sess.run(opt,{MSA:msa})\n",
        "      if (i+1) % 10 == 0:\n",
        "        print((i+1),sess.run(loss,{MSA:msa}))\n",
        "\n",
        "      # save the weights (aka V and W parameters of the MRF)\n",
        "      V = sess.run(b)\n",
        "      W = sess.run(w)\n",
        "  return(V,W) "
      ],
      "execution_count": 0,
      "outputs": []
    },
    {
      "metadata": {
        "id": "BEnCFJg1XBaf",
        "colab_type": "code",
        "outputId": "38b1e08a-1f6d-4cf1-c544-c84d49eb1613",
        "colab": {
          "base_uri": "https://localhost:8080/",
          "height": 204
        }
      },
      "cell_type": "code",
      "source": [
        "V,W = GREMLIN_simple(msa)"
      ],
      "execution_count": 7,
      "outputs": [
        {
          "output_type": "stream",
          "text": [
            "starting 80407.195\n",
            "10 42247.95\n",
            "20 38261.23\n",
            "30 36949.69\n",
            "40 36504.938\n",
            "50 36318.098\n",
            "60 36232.797\n",
            "70 36190.547\n",
            "80 36166.117\n",
            "90 36149.684\n",
            "100 36137.15\n"
          ],
          "name": "stdout"
        }
      ]
    },
    {
      "metadata": {
        "id": "2VYRfajHSgv1",
        "colab_type": "text"
      },
      "cell_type": "markdown",
      "source": [
        "## get contacts"
      ]
    },
    {
      "metadata": {
        "id": "mTw-NPuCSESQ",
        "colab_type": "code",
        "colab": {}
      },
      "cell_type": "code",
      "source": [
        "def get_mtx(W):\n",
        "  # l2norm of 20x20 matrices (note: we ignore gaps)\n",
        "  raw = np.sqrt(np.sum(np.square(W[:,:-1,:,:-1]),(1,3)))\n",
        "\n",
        "  # apc (average product correction)\n",
        "  ap = np.sum(raw,0,keepdims=True)*np.sum(raw,1,keepdims=True)/np.sum(raw)\n",
        "  apc = raw - ap\n",
        "  np.fill_diagonal(apc,0)\n",
        "  \n",
        "  return(raw,apc)"
      ],
      "execution_count": 0,
      "outputs": []
    },
    {
      "metadata": {
        "id": "hjJrppRvS2pV",
        "colab_type": "code",
        "outputId": "44dde87f-47e3-456b-bbce-624ddbe35ee3",
        "colab": {
          "base_uri": "https://localhost:8080/",
          "height": 317
        }
      },
      "cell_type": "code",
      "source": [
        "raw, apc = get_mtx(W)\n",
        "\n",
        "plt.figure(figsize=(10,5))\n",
        "plt.subplot(1,2,1)\n",
        "plt.imshow(raw)\n",
        "plt.grid(False)\n",
        "plt.title(\"raw\")\n",
        "plt.subplot(1,2,2)\n",
        "plt.imshow(apc)\n",
        "plt.grid(False)\n",
        "plt.title(\"apc\")\n",
        "plt.show()"
      ],
      "execution_count": 9,
      "outputs": [
        {
          "output_type": "display_data",
          "data": {
            "image/png": "[encoded data removed]",
            "text/plain": [
              "<Figure size 720x360 with 2 Axes>"
            ]
          },
          "metadata": {
            "tags": []
          }
        }
      ]
    },
    {
      "metadata": {
        "id": "zbdMaGvQFXXs",
        "colab_type": "text"
      },
      "cell_type": "markdown",
      "source": [
        "## EXTRA!\n",
        "Now lets try expand GREMLIN a bit, by adding sequence weights and ability to do stocastic gradient decent\n"
      ]
    },
    {
      "metadata": {
        "id": "Ug0PcWP1J_EA",
        "colab_type": "code",
        "colab": {}
      },
      "cell_type": "code",
      "source": [
        "from scipy.spatial.distance import pdist,squareform\n",
        "def get_eff(msa,eff_cutoff=0.8):\n",
        "  '''compute effective weight for each sequence'''\n",
        "  \n",
        "  # pairwise identity\n",
        "  msa_sm = 1.0 - squareform(pdist(msa,\"hamming\"))\n",
        "\n",
        "  # weight for each sequence\n",
        "  msa_w = np.zeros_like(msa_sm)\n",
        "  msa_w[np.where(msa_sm >= eff_cutoff)] = 1\n",
        "  msa_w = 1/np.sum(msa_w,-1)\n",
        "  \n",
        "  return msa_w"
      ],
      "execution_count": 0,
      "outputs": []
    },
    {
      "metadata": {
        "id": "wfUkxvytKC2V",
        "colab_type": "code",
        "colab": {}
      },
      "cell_type": "code",
      "source": [
        "# compute weight for each sequence in the MSA\n",
        "msa_weights = get_eff(msa_ori)"
      ],
      "execution_count": 0,
      "outputs": []
    },
    {
      "metadata": {
        "id": "DocUKCF_Fq_k",
        "colab_type": "code",
        "colab": {}
      },
      "cell_type": "code",
      "source": [
        "def GREMLIN_simple_v2(msa, msa_weights=None, opt_iter=100, opt_rate=0.1, batch_size=None):\n",
        "\n",
        "  # collecting some information about input msa\n",
        "  nrow = msa.shape[0] # number of sequences\n",
        "  ncol = msa.shape[1] # length of sequence\n",
        "  \n",
        "  if msa_weights is None:\n",
        "    msa_weights = np.ones(nrow)\n",
        "  \n",
        "  neff = np.sum(msa_weights) # number of \"effective\" sequences\n",
        "\n",
        "  # kill any existing tensorflow graph\n",
        "  tf.reset_default_graph()\n",
        "\n",
        "  # setting up weights\n",
        "  b = tf.get_variable(\"b\", [ncol,states])\n",
        "  w = tf.get_variable(\"w\", [ncol,states,ncol,states],\n",
        "                      initializer=tf.initializers.zeros)\n",
        "\n",
        "  # symmetrize w\n",
        "  w = w * np.reshape(1-np.eye(ncol),(ncol,1,ncol,1))\n",
        "  w = w + tf.transpose(w,[2,3,0,1])\n",
        "  \n",
        "  # input\n",
        "  MSA = tf.placeholder(tf.float32,shape=(None,ncol,21),name=\"msa\")\n",
        "  MSA_weights = tf.placeholder(tf.float32,shape=(None,),name=\"msa_weights\")\n",
        "\n",
        "  # dense layer + softmax activation\n",
        "  MSA_pred = tf.nn.softmax(tf.tensordot(MSA,w,2)+b,-1)\n",
        "\n",
        "  # loss = categorical crossentropy (aka pseudo-likelihood)\n",
        "  loss = tf.reduce_sum(tf.keras.losses.categorical_crossentropy(MSA,MSA_pred),-1)\n",
        "  loss = tf.reduce_sum(loss * MSA_weights) / tf.reduce_sum(MSA_weights)\n",
        "\n",
        "  # add L2 regularization\n",
        "  reg_b = 0.01 * tf.reduce_sum(tf.square(b))\n",
        "  reg_w = 0.01 * tf.reduce_sum(tf.square(w)) * 0.5 * (ncol-1) * (states-1)\n",
        "  loss = loss + (reg_b + reg_w)/neff\n",
        "\n",
        "  # setup optimizer\n",
        "  learning_rate = opt_rate * np.log(nrow)/ncol\n",
        "  opt = tf.train.AdamOptimizer(learning_rate).minimize(loss)\n",
        "  \n",
        "  # generate input/feed\n",
        "  def feed(feed_all=False):\n",
        "    if batch_size is None or feed_all:\n",
        "      return {MSA:msa, MSA_weights:msa_weights}\n",
        "    else:\n",
        "      idx = np.random.randint(0,nrow,size=batch_size)\n",
        "      return {MSA:msa[idx], MSA_weights:msa_weights[idx]}\n",
        "  \n",
        "  # optimize\n",
        "  with tf.Session() as sess:\n",
        "    \n",
        "    # initialize\n",
        "    sess.run(tf.global_variables_initializer())\n",
        "    \n",
        "    # initialize bias\n",
        "    pc = 0.01 * np.log(neff)\n",
        "    b_ini = np.log(np.sum(msa.T * msa_weights,-1).T + pc)\n",
        "    b_ini = b_ini - np.mean(b_ini,-1,keepdims=True)\n",
        "    sess.run(b.assign(b_ini))\n",
        "    \n",
        "    # compute loss across all data\n",
        "    get_loss = lambda: round(sess.run(loss,feed(feed_all=True)) * neff,2)\n",
        "    print(\"starting\", get_loss())\n",
        "\n",
        "    # iterate!\n",
        "    for i in range(opt_iter):\n",
        "      sess.run(opt,feed())\n",
        "      if (i+1) % int(opt_iter/10) == 0:\n",
        "        print(\"iter\",(i+1),get_loss())\n",
        " \n",
        "    # save the weights (aka V and W parameters of the MRF)\n",
        "    V = sess.run(b)\n",
        "    W = sess.run(w)\n",
        "      \n",
        "  # return the learned weights!\n",
        "  return V, W"
      ],
      "execution_count": 0,
      "outputs": []
    },
    {
      "metadata": {
        "id": "noqLtCNUGwM4",
        "colab_type": "code",
        "outputId": "c583b020-491c-46d9-99e3-d51bedf063ec",
        "colab": {
          "base_uri": "https://localhost:8080/",
          "height": 238
        }
      },
      "cell_type": "code",
      "source": [
        "%%time\n",
        "V,W = GREMLIN_simple_v2(msa, msa_weights, opt_iter=100, batch_size=10)"
      ],
      "execution_count": 13,
      "outputs": [
        {
          "output_type": "stream",
          "text": [
            "starting 51135.13\n",
            "iter 10 56323.74\n",
            "iter 20 54528.78\n",
            "iter 30 50557.44\n",
            "iter 40 45644.96\n",
            "iter 50 43110.96\n",
            "iter 60 42008.53\n",
            "iter 70 41185.23\n",
            "iter 80 40292.83\n",
            "iter 90 40011.57\n",
            "iter 100 39994.09\n",
            "CPU times: user 1.35 s, sys: 160 ms, total: 1.51 s\n",
            "Wall time: 1.29 s\n"
          ],
          "name": "stdout"
        }
      ]
    },
    {
      "metadata": {
        "id": "Ub9W3_S6OHhp",
        "colab_type": "code",
        "outputId": "14070319-695e-43d0-d098-232aa00c019a",
        "colab": {
          "base_uri": "https://localhost:8080/",
          "height": 317
        }
      },
      "cell_type": "code",
      "source": [
        "raw_v2, apc_v2 = get_mtx(W)\n",
        "\n",
        "plt.figure(figsize=(10,5))\n",
        "plt.subplot(1,2,1)\n",
        "plt.imshow(raw_v2)\n",
        "plt.grid(False)\n",
        "plt.title(\"raw_v2\")\n",
        "plt.subplot(1,2,2)\n",
        "plt.imshow(apc_v2)\n",
        "plt.grid(False)\n",
        "plt.title(\"apc_v2\")\n",
        "plt.show()"
      ],
      "execution_count": 14,
      "outputs": [
        {
          "output_type": "display_data",
          "data": {
            "image/png": "[encoded data removed]",
            "text/plain": [
              "<Figure size 720x360 with 2 Axes>"
            ]
          },
          "metadata": {
            "tags": []
          }
        }
      ]
    },
    {
      "metadata": {
        "id": "DgpUXJcbOXNc",
        "colab_type": "code",
        "colab": {}
      },
      "cell_type": "code",
      "source": [
        ""
      ],
      "execution_count": 0,
      "outputs": []
    }
  ]
}