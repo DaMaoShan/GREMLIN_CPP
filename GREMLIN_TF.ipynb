{
  "nbformat": 4,
  "nbformat_minor": 0,
  "metadata": {
    "colab": {
      "name": "GREMLIN_TF_v2.ipynb",
      "version": "0.3.2",
      "provenance": [],
      "collapsed_sections": [],
      "include_colab_link": true
    },
    "kernelspec": {
      "name": "python3",
      "display_name": "Python 3"
    },
    "accelerator": "GPU"
  },
  "cells": [
    {
      "cell_type": "markdown",
      "metadata": {
        "id": "view-in-github",
        "colab_type": "text"
      },
      "source": [
        "<a href=\"https://colab.research.google.com/github/sokrypton/GREMLIN_CPP/blob/master/GREMLIN_TF.ipynb\" target=\"_parent\"><img src=\"https://colab.research.google.com/assets/colab-badge.svg\" alt=\"Open In Colab\"/></a>"
      ]
    },
    {
      "metadata": {
        "id": "mu2S86VhS-8t",
        "colab_type": "text"
      },
      "cell_type": "markdown",
      "source": [
        "# GREMLIN_TF v2\n",
        "GREMLIN implemented in tensorflow\n",
        "\n",
        "### Change log:\n",
        "*   16Jan2018\n",
        " - updating how indices are handled (for easier/cleaner parsing)\n",
        " - minor speed up in how we symmetrize and zero the diagional of W\n",
        " - added a simplified version of the GREMLIN algorithm/model for educational purposes! (see very bottom of notebook)\n",
        "*   15Jan2018\n",
        " - LBFGS optimizer replaced with a modified version of the ADAM optimizer\n",
        " - Added option for stochastic gradient descent (via batch_size)\n",
        "  \n",
        "### Method:\n",
        "GREMLIN takes a multiple sequence alignment (MSA) and returns a Markov Random Field (MRF or Potts model). The MRF consists of a one-body term (V) that encodes conservation, and a two-body term (W) that encodes co-evolution.\n",
        "\n",
        "For example, lets say we have a 100 residues protein. \n",
        "*   The *V* will have the shape (100,21)\n",
        " - 21 = 20 amino acids + 1 gap.\n",
        "*   The *W* will have the shape (4950,21,21), each pair of residues will have 21x21 matrix.\n",
        " - 4950 = (L(L-1)/2), since the matrix is symmetric, only upper-triangle of matrix is returned, instead of (100,100,21,21)\n",
        "\n",
        "For more details about the method see:\n",
        "[Google slides](https://docs.google.com/presentation/d/1aooxoksosSv7CWs9-ktqhUjyXR3wrgbG5a6PCr92od4/) and [Google colab](https://colab.research.google.com/drive/17RJcExuyifnd7ShTcsZGh6mBpWq0-s60)\n"
      ]
    },
    {
      "metadata": {
        "id": "yM3wyYU5SwYn",
        "colab_type": "code",
        "colab": {}
      },
      "cell_type": "code",
      "source": [
        "# ------------------------------------------------------------\n",
        "# \"THE BEERWARE LICENSE\" (Revision 42):\n",
        "# <so@g.harvard.edu> and <pkk382@g.harvard.edu> wrote this code.\n",
        "# As long as you retain this notice, you can do whatever you want\n",
        "# with this stuff. If we meet someday, and you think this stuff\n",
        "# is worth it, you can buy us a beer in return.\n",
        "# --Sergey Ovchinnikov and Peter Koo\n",
        "# ------------------------------------------------------------\n",
        "#\n",
        "# if you use this code, please cite the following papers:\n",
        "#\n",
        "# Balakrishnan, Sivaraman, Hetunandan Kamisetty, Jaime G. Carbonell,\n",
        "# Su‐In Lee, and Christopher James Langmead.\n",
        "# \"Learning generative models for protein fold families.\"\n",
        "# Proteins: Structure, Function, and Bioinformatics 79, no. 4 (2011): 1061-1078.\n",
        "#\n",
        "# Kamisetty, Hetunandan, Sergey Ovchinnikov, and David Baker.\n",
        "# \"Assessing the utility of coevolution-based residue–residue\n",
        "# contact predictions in a sequence-and structure-rich era.\"\n",
        "# Proceedings of the National Academy of Sciences (2013): 201314045."
      ],
      "execution_count": 0,
      "outputs": []
    },
    {
      "metadata": {
        "id": "NLUvPVyxb7bo",
        "colab_type": "text"
      },
      "cell_type": "markdown",
      "source": [
        "## libraries"
      ]
    },
    {
      "metadata": {
        "id": "YyJpLM_tJfrY",
        "colab_type": "code",
        "colab": {}
      },
      "cell_type": "code",
      "source": [
        "# IMPORTANT, only tested using PYTHON 3!\n",
        "import numpy as np\n",
        "import tensorflow as tf\n",
        "import matplotlib.pylab as plt\n",
        "from scipy import stats\n",
        "from scipy.spatial.distance import pdist,squareform\n",
        "import pandas as pd"
      ],
      "execution_count": 0,
      "outputs": []
    },
    {
      "metadata": {
        "id": "j0Yp7bPRmvwU",
        "colab_type": "text"
      },
      "cell_type": "markdown",
      "source": [
        "## Params"
      ]
    },
    {
      "metadata": {
        "id": "o3c7KURqmugY",
        "colab_type": "code",
        "colab": {}
      },
      "cell_type": "code",
      "source": [
        "################\n",
        "# note: if you are modifying the alphabet\n",
        "# make sure last character is \"-\" (gap)\n",
        "################\n",
        "alphabet = \"ARNDCQEGHILKMFPSTWYV-\"\n",
        "states = len(alphabet)\n",
        "a2n = {}\n",
        "for a,n in zip(alphabet,range(states)):\n",
        "  a2n[a] = n\n",
        "################\n",
        "\n",
        "def aa2num(aa):\n",
        "  '''convert aa into num'''\n",
        "  if aa in a2n: return a2n[aa]\n",
        "  else: return a2n['-']"
      ],
      "execution_count": 0,
      "outputs": []
    },
    {
      "metadata": {
        "id": "bX6GXKV3I2pm",
        "colab_type": "text"
      },
      "cell_type": "markdown",
      "source": [
        "## Functions for working prepping MSA (Multiple sequence alignment)"
      ]
    },
    {
      "metadata": {
        "id": "zA0Bne59SUIu",
        "colab_type": "code",
        "colab": {}
      },
      "cell_type": "code",
      "source": [
        "# from fasta\n",
        "def parse_fasta(filename,limit=-1):\n",
        "  '''function to parse fasta'''\n",
        "  header = []\n",
        "  sequence = []\n",
        "  lines = open(filename, \"r\")\n",
        "  for line in lines:\n",
        "    line = line.rstrip()\n",
        "    if line[0] == \">\":\n",
        "      if len(header) == limit:\n",
        "        break\n",
        "      header.append(line[1:])\n",
        "      sequence.append([])\n",
        "    else:\n",
        "      sequence[-1].append(line)\n",
        "  lines.close()\n",
        "  sequence = [''.join(seq) for seq in sequence]\n",
        "  return np.array(header), np.array(sequence)\n",
        "\n",
        "def filt_gaps(msa,gap_cutoff=0.5):\n",
        "  '''filters alignment to remove gappy positions'''\n",
        "  tmp = np.zeros_like(msa)\n",
        "  tmp[np.where(msa == 20)] = 1\n",
        "  non_gaps = np.where(np.sum(tmp.T,-1).T/msa.shape[0] < gap_cutoff)[0]\n",
        "  return msa[:,non_gaps],non_gaps\n",
        "\n",
        "def get_eff(msa,eff_cutoff=0.8):\n",
        "  '''compute effective weight for each sequence'''\n",
        "  length = msa.shape[1]\n",
        "  \n",
        "  # pairwise identity\n",
        "  msa_sm = 1.0 - squareform(pdist(msa,\"hamming\"))\n",
        "\n",
        "  # weight for each sequence\n",
        "  msa_w = np.zeros_like(msa_sm)\n",
        "  msa_w[np.where(msa_sm >= eff_cutoff)] = 1\n",
        "  msa_w = 1/np.sum(msa_w,-1)\n",
        "  \n",
        "  return msa_w\n",
        "\n",
        "def mk_msa(seqs):\n",
        "  '''converts list of sequences to msa'''\n",
        "  \n",
        "  msa_ori = []\n",
        "  for seq in seqs:\n",
        "    msa_ori.append([aa2num(aa) for aa in seq])\n",
        "  msa_ori = np.array(msa_ori)\n",
        "  \n",
        "  # remove positions with more than > 50% gaps\n",
        "  msa, v_idx = filt_gaps(msa_ori,0.5)\n",
        "  \n",
        "  # compute effective weight for each sequence\n",
        "  msa_weights = get_eff(msa,0.8)\n",
        "\n",
        "  # compute effective number of sequences\n",
        "  length = msa.shape[1] # length of sequence\n",
        "  w_idx = v_idx[np.stack(np.triu_indices(length,1),-1)]\n",
        "  \n",
        "  return {\"msa_ori\":msa_ori,\n",
        "          \"msa\":msa,\n",
        "          \"msa_weights\":msa_weights,\n",
        "          \"neff\":np.sum(msa_weights),\n",
        "          \"v_idx\":v_idx,\n",
        "          \"w_idx\":w_idx,\n",
        "          \"samples\":msa.shape[0],\n",
        "          \"length\":length,\n",
        "          \"length_ori\":msa_ori.shape[1]}\n"
      ],
      "execution_count": 0,
      "outputs": []
    },
    {
      "metadata": {
        "id": "8R_b4PY4lRnk",
        "colab_type": "text"
      },
      "cell_type": "markdown",
      "source": [
        "## Optimizers"
      ]
    },
    {
      "metadata": {
        "id": "8L-pi5fElQ9B",
        "colab_type": "code",
        "colab": {}
      },
      "cell_type": "code",
      "source": [
        "########################################################################################\n",
        "# ADAM\n",
        "########################################################################################\n",
        "# Note: this is a modified version of adam optimizer. More specifically, we replace \"vt\"\n",
        "# with sum(g*g) instead of (g*g). Furthmore, we find that disabling the bias correction\n",
        "# (b_fix=False) speeds up convergence for our case.\n",
        "########################################################################################\n",
        "def opt_adam(loss, var_list=None, lr=1.0, scope=\"adam\", b1=0.9, b2=0.999, b_fix=False):\n",
        "  if var_list is None: var_list = tf.trainable_variables()  \n",
        "  with tf.variable_scope(scope):\n",
        "    gradients = tf.gradients(xs=var_list,ys=loss)\n",
        "    if b_fix: t = tf.Variable(1.0,\"t\")\n",
        "    opt = []\n",
        "    for n,(x,g) in enumerate(zip(var_list,gradients)):\n",
        "      if g is not None:\n",
        "        ini = dict(initializer=tf.zeros_initializer,trainable=False)\n",
        "        mt = tf.get_variable(\"mt_\"+str(n),shape=x.shape, **ini)\n",
        "        vt = tf.get_variable(\"vt_\"+str(n),shape=(1,), **ini)\n",
        "        mt_tmp = b1*mt+(1-b1)*g\n",
        "        vt_tmp = b2*vt+(1-b2)*tf.reduce_sum(tf.square(g))\n",
        "        lr_tmp = lr/tf.sqrt(vt_tmp)\n",
        "        \n",
        "        if b_fix: lr_tmp = lr_tmp * tf.sqrt(1-tf.pow(b2,t))/(1-tf.pow(b1,t))\n",
        "        \n",
        "        opt.append(x.assign_add(-lr_tmp * mt_tmp))\n",
        "        opt.append(vt.assign(vt_tmp))\n",
        "        opt.append(mt.assign(mt_tmp))\n",
        "        \n",
        "    if b_fix: t.assign_add(1.0)\n",
        "    return(tf.group(opt))\n",
        "  \n",
        "########################################################################################\n",
        "# SGD\n",
        "########################################################################################\n",
        "# for comparison we also implement a simple gradient decent optimizer\n",
        "# note: opt_sgd() == opt_adam(b1=0.0, b2=0.0, b_fix=False)\n",
        "########################################################################################\n",
        "def opt_sgd(loss, var_list=None, lr=1.0):\n",
        "  if var_list is None: var_list = tf.trainable_variables()  \n",
        "  gradients = tf.gradients(xs=var_list,ys=loss)\n",
        "  opt = []\n",
        "  for x,g in zip(var_list,gradients):\n",
        "    if g is not None:\n",
        "      lr_tmp = lr/tf.sqrt(tf.reduce_sum(tf.square(g)))\n",
        "      opt.append(x.assign_add(-lr_tmp * g))\n",
        "  return(tf.group(opt))"
      ],
      "execution_count": 0,
      "outputs": []
    },
    {
      "metadata": {
        "id": "fky6gk-HlFyi",
        "colab_type": "text"
      },
      "cell_type": "markdown",
      "source": [
        "## GREMLIN"
      ]
    },
    {
      "metadata": {
        "id": "BqYqlJAXVI9N",
        "colab_type": "code",
        "colab": {}
      },
      "cell_type": "code",
      "source": [
        "def GREMLIN(msa, opt_type=\"adam\", opt_iter=100, opt_rate=1.0, batch_size=None):\n",
        "  \n",
        "  ##############################################################\n",
        "  # SETUP COMPUTE GRAPH\n",
        "  ##############################################################  \n",
        "  \n",
        "  # kill any existing tensorflow graph\n",
        "  tf.reset_default_graph()\n",
        "  \n",
        "  length = msa[\"length\"] # length of sequence\n",
        "\n",
        "  # msa (multiple sequence alignment) \n",
        "  MSA = tf.placeholder(tf.int32,shape=(None,length),name=\"msa\")\n",
        "  \n",
        "  # one-hot encode msa\n",
        "  OH_MSA = tf.one_hot(MSA,states)\n",
        "\n",
        "  # msa weights\n",
        "  MSA_weights = tf.placeholder(tf.float32, shape=(None,), name=\"msa_weights\")\n",
        "\n",
        "  ini_zero = tf.zeros_initializer\n",
        "  \n",
        "  # 1-body-term of the MRF\n",
        "  V = tf.get_variable(name=\"V\", shape=[length,states],dtype=tf.float32, initializer=ini_zero)\n",
        "\n",
        "  # 2-body-term of the MRF\n",
        "  W_tmp = tf.get_variable(name=\"W_tmp\", shape=[length,states,length,states], dtype=tf.float32, initializer=ini_zero)\n",
        "  # set diagional to zero and symmetrize\n",
        "  W = W_tmp * np.reshape(1-np.eye(length),(length,1,length,1))\n",
        "  W = 0.5 * (W + tf.transpose(W,[2,3,0,1]))\n",
        "  \n",
        "  def L2(x): return tf.reduce_sum(tf.square(x))\n",
        "  \n",
        "  ########################################\n",
        "  # V\n",
        "  ########################################\n",
        "  # Note: we find optimizing V first, requires less steps for V+W convergence!\n",
        "  H_V = tf.reduce_sum(tf.multiply(OH_MSA,V),axis=-1)\n",
        "  Z_V = tf.reduce_logsumexp(V,axis=-1)\n",
        "  VLL = tf.reduce_sum(H_V-Z_V,axis=1)\n",
        "\n",
        "  L2_V = 0.01 * L2(V)\n",
        "  loss_V = -tf.reduce_sum(VLL*MSA_weights) * (msa[\"neff\"]/tf.reduce_sum(MSA_weights)) + L2_V\n",
        "    \n",
        "  ########################################\n",
        "  # V + W\n",
        "  ########################################\n",
        "  VW = V + tf.tensordot(OH_MSA,W,2)\n",
        "\n",
        "  # hamiltonian\n",
        "  H = tf.reduce_sum(tf.multiply(OH_MSA,VW),axis=2)\n",
        "  # local Z (parition function)\n",
        "  Z = tf.reduce_logsumexp(VW,axis=2)\n",
        "\n",
        "  # Psuedo-Log-Likelihood\n",
        "  PLL = tf.reduce_sum(H - Z, axis=1)\n",
        "\n",
        "  # Regularization\n",
        "  L2_V = 0.01 * L2(V)\n",
        "  L2_W = 0.01 * L2(W) * 0.5 * tf.constant((length-1)*(states-1),tf.float32)\n",
        "\n",
        "  # loss function to minimize\n",
        "  loss_VW = -tf.reduce_sum(PLL*MSA_weights) * (msa[\"neff\"]/tf.reduce_sum(MSA_weights)) + L2_V + L2_W\n",
        "\n",
        "  ##############################################################\n",
        "  # MINIMIZE LOSS FUNCTION\n",
        "  ##############################################################\n",
        "  if opt_type == \"adam\":  \n",
        "    opt_V = opt_adam(loss_V,var_list=[V],lr=opt_rate,scope=\"V\")\n",
        "    opt_VW = opt_adam(loss_VW,var_list=[V,W_tmp],lr=opt_rate,scope=\"VW\")\n",
        "    \n",
        "  if opt_type == \"sgd\":  \n",
        "    opt_V = opt_sgd(loss_V,var_list=[V],lr=opt_rate)\n",
        "    opt_VW = opt_sgd(loss_VW,var_list=[V,W_tmp],lr=opt_rate)\n",
        "\n",
        "  with tf.Session() as sess:\n",
        "    # initialize variables V and W\n",
        "    sess.run(tf.global_variables_initializer())\n",
        "\n",
        "    if opt_type == \"lbfgs\":\n",
        "      lbfgs = tf.contrib.opt.ScipyOptimizerInterface\n",
        "      # optimize V\n",
        "      opt = lbfgs(loss_V,method=\"L-BFGS-B\",options={'maxiter': opt_iter},var_list=[V])\n",
        "      opt.minimize(sess,{MSA:msa,MSA_weights:msa[\"msa_weights\"]})\n",
        "      \n",
        "      # optimize V+W\n",
        "      opt = lbfgs(loss_VW,method=\"L-BFGS-B\",options={'maxiter': opt_iter},var_list=[V,W_tmp])\n",
        "      opt.minimize(sess,{MSA:msa,MSA_weights:msa[\"msa_weights\"]})\n",
        "      \n",
        "    # input to placeholders\n",
        "    feed = {MSA:msa[\"msa\"],MSA_weights:msa[\"msa_weights\"]}\n",
        "    if opt_type == \"adam\" or opt_type == \"sgd\":\n",
        "      opt_list = [[loss_V,opt_V],[loss_VW,opt_VW]]\n",
        "      for n,(loss,opt) in enumerate(opt_list):\n",
        "        for i in range(opt_iter):\n",
        "          if batch_size is None:\n",
        "            sess.run(opt,feed)\n",
        "          else:\n",
        "            idx = np.random.randint(0,msa[\"samples\"],size=batch_size)\n",
        "            sess.run(opt,{MSA:msa[\"msa\"][idx],MSA_weights:msa[\"msa_weights\"][idx]})\n",
        "            \n",
        "          if (n==0 and (i+1)==opt_iter) or (n==1 and (i+1)%int(opt_iter/10)==0):\n",
        "            print((i+1),sess.run(loss,feed))\n",
        " \n",
        "    # save the V and W parameters of the MRF\n",
        "    V_ = sess.run(V)\n",
        "    W_ = sess.run(W)\n",
        "    \n",
        "  # only return upper-right triangle of matrix (since it's symmetric)\n",
        "  tri = np.triu_indices(length,1)\n",
        "  W_ = W_[tri[0],:,tri[1],:]\n",
        "  \n",
        "  mrf = {\"v\": V_,\n",
        "         \"w\": W_,\n",
        "         \"v_idx\": msa[\"v_idx\"],\n",
        "         \"w_idx\": msa[\"w_idx\"],\n",
        "         \"length_ori\": msa[\"length_ori\"]}\n",
        "  \n",
        "  return mrf"
      ],
      "execution_count": 0,
      "outputs": []
    },
    {
      "metadata": {
        "id": "mppg0JLtP25z",
        "colab_type": "text"
      },
      "cell_type": "markdown",
      "source": [
        "## EXAMPLE"
      ]
    },
    {
      "metadata": {
        "id": "bnigmLmAlyWv",
        "colab_type": "code",
        "colab": {}
      },
      "cell_type": "code",
      "source": [
        "# download example fasta MSA\n",
        "!wget -q -nc https://gremlin2.bakerlab.org/db/PDB_EXP/fasta/4FAZA.fas"
      ],
      "execution_count": 0,
      "outputs": []
    },
    {
      "metadata": {
        "id": "osaZwTSMOicF",
        "colab_type": "code",
        "colab": {}
      },
      "cell_type": "code",
      "source": [
        "# ===============================================================================\n",
        "# PREP MSA\n",
        "# ===============================================================================\n",
        "# parse fasta\n",
        "names, seqs = parse_fasta(\"4FAZA.fas\")\n",
        "\n",
        "# process input sequences\n",
        "msa = mk_msa(seqs)"
      ],
      "execution_count": 0,
      "outputs": []
    },
    {
      "metadata": {
        "id": "CoBRuqmVVrbD",
        "colab_type": "code",
        "outputId": "01833f99-bf16-4548-f218-93bfe705dc79",
        "colab": {
          "base_uri": "https://localhost:8080/",
          "height": 238
        }
      },
      "cell_type": "code",
      "source": [
        "%%time\n",
        "# ===============================================================================\n",
        "# RUN GREMLIN\n",
        "# ===============================================================================\n",
        "# Note: the original GREMLIN uses the \"lbfgs\" optimizer which is EXTREMELY slow \n",
        "# in tensorflow. The modified adam/sgd optimizers are much faster, but may \n",
        "# require adjusting number of iterations (opt_iter) to converge to the same \n",
        "# solution. To switch back to the original, set opt_type=\"lbfgs\".\n",
        "# ===============================================================================\n",
        "mrf = GREMLIN(msa)"
      ],
      "execution_count": 9,
      "outputs": [
        {
          "output_type": "stream",
          "text": [
            "100 50646.43\n",
            "10 29328.117\n",
            "20 27866.09\n",
            "30 27009.492\n",
            "40 26691.941\n",
            "50 26590.484\n",
            "60 26552.283\n",
            "70 26536.877\n",
            "80 26529.504\n",
            "90 26525.492\n",
            "100 26522.889\n",
            "CPU times: user 2.36 s, sys: 553 ms, total: 2.91 s\n",
            "Wall time: 2.73 s\n"
          ],
          "name": "stdout"
        }
      ]
    },
    {
      "metadata": {
        "id": "jCrfC2Um4xww",
        "colab_type": "text"
      },
      "cell_type": "markdown",
      "source": [
        "## Explore the contact map\n",
        "### Contact prediction:\n",
        "\n",
        "For contact prediction, the W matrix is reduced from LxLx21x21 to LxL matrix (by taking the L2norm for each of the 20x20). In the code below, you can access this as mtx[\"raw\"]. Further correction (average product correction) is then performed to the mtx[\"raw\"] to remove the effects of entropy, mtx[\"apc\"]. The relative ranking of mtx[\"apc\"] is used to assess importance. When there are enough effective sequences (>1000), we find that the top 1.0L contacts are ~90% accurate! When the number of effective sequences is lower, NN can help clean noise and fill in missing contacts.\n"
      ]
    },
    {
      "metadata": {
        "id": "XxgQArVUPyPH",
        "colab_type": "text"
      },
      "cell_type": "markdown",
      "source": [
        "## Functions for extracting contacts from MRF"
      ]
    },
    {
      "metadata": {
        "id": "nMxp7up_P1_q",
        "colab_type": "code",
        "colab": {}
      },
      "cell_type": "code",
      "source": [
        "###################\n",
        "def normalize(x):\n",
        "  x = stats.boxcox(x - np.amin(x) + 1.0)[0]\n",
        "  x_mean = np.mean(x)\n",
        "  x_std = np.std(x)\n",
        "  return((x-x_mean)/x_std)\n",
        "\n",
        "def get_mtx(mrf):\n",
        "  '''get mtx given mrf'''\n",
        "  \n",
        "  # l2norm of 20x20 matrices (note: we ignore gaps)\n",
        "  raw = np.sqrt(np.sum(np.square(mrf[\"w\"][:,:-1,:-1]),(1,2)))\n",
        "  raw_sq = squareform(raw)\n",
        "\n",
        "  # apc (average product correction)\n",
        "  ap_sq = np.sum(raw_sq,0,keepdims=True)*np.sum(raw_sq,1,keepdims=True)/np.sum(raw_sq)\n",
        "  apc = squareform(raw_sq - ap_sq, checks=False)\n",
        "\n",
        "  mtx = {\"i\": mrf[\"w_idx\"][:,0],\n",
        "         \"j\": mrf[\"w_idx\"][:,1],\n",
        "         \"raw\": raw,\n",
        "         \"apc\": apc,\n",
        "         \"zscore\": normalize(apc)}\n",
        "  return mtx\n",
        "\n",
        "def plot_mtx(mtx):\n",
        "  '''plot the mtx'''\n",
        "  plt.figure(figsize=(5,5))\n",
        "  plt.imshow(squareform(mtx[\"zscore\"]), cmap='Blues', interpolation='none', vmin=1, vmax=3)\n",
        "  plt.grid(False)\n",
        "  plt.show()"
      ],
      "execution_count": 0,
      "outputs": []
    },
    {
      "metadata": {
        "id": "RSleviAVPJ36",
        "colab_type": "code",
        "outputId": "88646eb5-5b08-492f-f0a5-e2b7dbc7bee3",
        "colab": {
          "base_uri": "https://localhost:8080/",
          "height": 321
        }
      },
      "cell_type": "code",
      "source": [
        "mtx = get_mtx(mrf)  \n",
        "plot_mtx(mtx)"
      ],
      "execution_count": 11,
      "outputs": [
        {
          "output_type": "display_data",
          "data": {
            "image/png": "[encoded data removed]",
            "text/plain": [
              "<Figure size 360x360 with 1 Axes>"
            ]
          },
          "metadata": {
            "tags": []
          }
        }
      ]
    },
    {
      "metadata": {
        "id": "qWaTHLTH5rGw",
        "colab_type": "text"
      },
      "cell_type": "markdown",
      "source": [
        "## Look at top co-evolving residue pairs"
      ]
    },
    {
      "metadata": {
        "id": "9A2yeOJ8uPNM",
        "colab_type": "code",
        "colab": {
          "base_uri": "https://localhost:8080/",
          "height": 359
        },
        "outputId": "8bba51df-6e3e-4b13-8982-82acee9a005f"
      },
      "cell_type": "code",
      "source": [
        "# load mtx into pandas dataframe\n",
        "pd_mtx = pd.DataFrame(mtx,columns=[\"i\",\"j\",\"zscore\"])\n",
        "\n",
        "# get contacts with sequence seperation > 5\n",
        "# sort by zscore, show top 10\n",
        "top = pd_mtx.loc[pd_mtx['j'] - pd_mtx['i'] > 5].sort_values(\"zscore\",ascending=False)\n",
        "top.head(10)"
      ],
      "execution_count": 12,
      "outputs": [
        {
          "output_type": "execute_result",
          "data": {
            "text/html": [
              "<div>\n",
              "<style scoped>\n",
              "    .dataframe tbody tr th:only-of-type {\n",
              "        vertical-align: middle;\n",
              "    }\n",
              "\n",
              "    .dataframe tbody tr th {\n",
              "        vertical-align: top;\n",
              "    }\n",
              "\n",
              "    .dataframe thead th {\n",
              "        text-align: right;\n",
              "    }\n",
              "</style>\n",
              "<table border=\"1\" class=\"dataframe\">\n",
              "  <thead>\n",
              "    <tr style=\"text-align: right;\">\n",
              "      <th></th>\n",
              "      <th>i</th>\n",
              "      <th>j</th>\n",
              "      <th>zscore</th>\n",
              "    </tr>\n",
              "  </thead>\n",
              "  <tbody>\n",
              "    <tr>\n",
              "      <th>1056</th>\n",
              "      <td>21</td>\n",
              "      <td>28</td>\n",
              "      <td>2.974190</td>\n",
              "    </tr>\n",
              "    <tr>\n",
              "      <th>881</th>\n",
              "      <td>16</td>\n",
              "      <td>58</td>\n",
              "      <td>2.959086</td>\n",
              "    </tr>\n",
              "    <tr>\n",
              "      <th>142</th>\n",
              "      <td>2</td>\n",
              "      <td>26</td>\n",
              "      <td>2.940154</td>\n",
              "    </tr>\n",
              "    <tr>\n",
              "      <th>999</th>\n",
              "      <td>19</td>\n",
              "      <td>50</td>\n",
              "      <td>2.918421</td>\n",
              "    </tr>\n",
              "    <tr>\n",
              "      <th>820</th>\n",
              "      <td>15</td>\n",
              "      <td>41</td>\n",
              "      <td>2.856015</td>\n",
              "    </tr>\n",
              "    <tr>\n",
              "      <th>488</th>\n",
              "      <td>8</td>\n",
              "      <td>45</td>\n",
              "      <td>2.819605</td>\n",
              "    </tr>\n",
              "    <tr>\n",
              "      <th>251</th>\n",
              "      <td>4</td>\n",
              "      <td>22</td>\n",
              "      <td>2.815800</td>\n",
              "    </tr>\n",
              "    <tr>\n",
              "      <th>1278</th>\n",
              "      <td>27</td>\n",
              "      <td>37</td>\n",
              "      <td>2.746233</td>\n",
              "    </tr>\n",
              "    <tr>\n",
              "      <th>934</th>\n",
              "      <td>18</td>\n",
              "      <td>26</td>\n",
              "      <td>2.729804</td>\n",
              "    </tr>\n",
              "    <tr>\n",
              "      <th>326</th>\n",
              "      <td>5</td>\n",
              "      <td>42</td>\n",
              "      <td>2.690502</td>\n",
              "    </tr>\n",
              "  </tbody>\n",
              "</table>\n",
              "</div>"
            ],
            "text/plain": [
              "       i   j    zscore\n",
              "1056  21  28  2.974190\n",
              "881   16  58  2.959086\n",
              "142    2  26  2.940154\n",
              "999   19  50  2.918421\n",
              "820   15  41  2.856015\n",
              "488    8  45  2.819605\n",
              "251    4  22  2.815800\n",
              "1278  27  37  2.746233\n",
              "934   18  26  2.729804\n",
              "326    5  42  2.690502"
            ]
          },
          "metadata": {
            "tags": []
          },
          "execution_count": 12
        }
      ]
    },
    {
      "metadata": {
        "id": "wqG93dC12CKx",
        "colab_type": "text"
      },
      "cell_type": "markdown",
      "source": [
        "## Explore the MRF"
      ]
    },
    {
      "metadata": {
        "id": "k6BsheyNx3ID",
        "colab_type": "code",
        "outputId": "23642101-1bc4-4fa8-b8ee-45432a48bf99",
        "colab": {
          "base_uri": "https://localhost:8080/",
          "height": 333
        }
      },
      "cell_type": "code",
      "source": [
        "def plot_v(mrf):  \n",
        "  al_a = list(alphabet)\n",
        "  v = mrf[\"v\"].T\n",
        "  mx = np.max((v.max(),np.abs(v.min())))\n",
        "  plt.figure(figsize=(v.shape[1]/4,states/4))\n",
        "  plt.imshow(-v,cmap='bwr',vmin=-mx,vmax=mx)\n",
        "  plt.xticks(np.arange(v.shape[1]))\n",
        "  plt.yticks(np.arange(0,21))\n",
        "  plt.grid(False)\n",
        "  ax = plt.gca()\n",
        "  ax.xaxis.set_major_formatter(plt.FuncFormatter(lambda x,y: mrf[\"v_idx\"][x])) \n",
        "  ax.yaxis.set_major_formatter(plt.FuncFormatter(lambda x,y: al_a[x]))\n",
        "  \n",
        "plot_v(mrf)"
      ],
      "execution_count": 13,
      "outputs": [
        {
          "output_type": "display_data",
          "data": {
            "image/png": "[encoded data removed]",
            "text/plain": [
              "<Figure size 1098x378 with 1 Axes>"
            ]
          },
          "metadata": {
            "tags": []
          }
        }
      ]
    },
    {
      "metadata": {
        "id": "OER2wALRvTkK",
        "colab_type": "code",
        "outputId": "82990259-b243-4d2f-c578-0b73cdb7175e",
        "colab": {
          "base_uri": "https://localhost:8080/",
          "height": 679
        }
      },
      "cell_type": "code",
      "source": [
        "def plot_w(mrf,i,j):\n",
        "  \n",
        "  n = int(np.where((mrf[\"w_idx\"][:,0] == i)&(mrf[\"w_idx\"][:,1] == j))[0])\n",
        "  w = mrf[\"w\"][n]\n",
        "  \n",
        "  mx = np.max((w.max(),np.abs(w.min())))\n",
        "  plt.figure(figsize=(states/4,states/4))\n",
        "  plt.imshow(-w,cmap='bwr',vmin=-mx,vmax=mx)\n",
        "  plt.xticks(np.arange(0,states))\n",
        "  plt.yticks(np.arange(0,states))\n",
        "  plt.grid(False)\n",
        "  \n",
        "  ax = plt.gca()\n",
        "  al_a = list(alphabet)\n",
        "  ax.xaxis.set_major_formatter(plt.FuncFormatter(lambda x,y: al_a[x])) \n",
        "  ax.yaxis.set_major_formatter(plt.FuncFormatter(lambda x,y: al_a[x]))\n",
        "  plt.title(f\"W for positions {i} and {j}\")\n",
        "  plt.show()\n",
        "\n",
        "for n in range(2):\n",
        "  i = int(top.iloc[n][\"i\"])\n",
        "  j = int(top.iloc[n][\"j\"])\n",
        "  plot_w(mrf,i,j)"
      ],
      "execution_count": 14,
      "outputs": [
        {
          "output_type": "display_data",
          "data": {
            "image/png": "[encoded data removed]",
            "text/plain": [
              "<Figure size 378x378 with 1 Axes>"
            ]
          },
          "metadata": {
            "tags": []
          }
        },
        {
          "output_type": "display_data",
          "data": {
            "image/png": "[encoded data removed]",
            "text/plain": [
              "<Figure size 378x378 with 1 Axes>"
            ]
          },
          "metadata": {
            "tags": []
          }
        }
      ]
    },
    {
      "metadata": {
        "id": "xv2anXSUX9kr",
        "colab_type": "text"
      },
      "cell_type": "markdown",
      "source": [
        "## validating output\n",
        "(comparing to known output from GREMLIN_cpp version)"
      ]
    },
    {
      "metadata": {
        "id": "RBIvsIQ9X74s",
        "colab_type": "code",
        "colab": {}
      },
      "cell_type": "code",
      "source": [
        "!wget -q -nc http://files.ipd.uw.edu/krypton/4FAZA.out"
      ],
      "execution_count": 0,
      "outputs": []
    },
    {
      "metadata": {
        "id": "M7fK03GFX_3q",
        "colab_type": "code",
        "outputId": "c72777c6-d0ac-4a76-db33-3f60a04096a6",
        "colab": {
          "base_uri": "https://localhost:8080/",
          "height": 347
        }
      },
      "cell_type": "code",
      "source": [
        "pd_test = pd.read_table(\"4FAZA.out\",sep=\" \")\n",
        "plt.scatter(pd_test[\"apc\"],mtx[\"apc\"])\n",
        "plt.show()"
      ],
      "execution_count": 16,
      "outputs": [
        {
          "output_type": "display_data",
          "data": {
            "image/png": "[encoded data removed]",
            "text/plain": [
              "<Figure size 576x396 with 1 Axes>"
            ]
          },
          "metadata": {
            "tags": []
          }
        }
      ]
    },
    {
      "metadata": {
        "id": "-dw9TGERe3cw",
        "colab_type": "text"
      },
      "cell_type": "markdown",
      "source": [
        "## Useful input features for NN (Neural Networks)\n",
        "\n",
        "The \"apc\" values are typically used as input to the NN for contact cleaning or structure prediction. Though in recent advances (aka DeepMind/Alphafold), the entire MRF was used as the input. More specificially LxLx442. The 442 channels are the 21x21 + (raw and/or apc) value."
      ]
    },
    {
      "metadata": {
        "id": "nqbDMKdsYG7Q",
        "colab_type": "code",
        "outputId": "6ce3b8c8-2dce-4968-8946-7506d5164437",
        "colab": {
          "base_uri": "https://localhost:8080/",
          "height": 51
        }
      },
      "cell_type": "code",
      "source": [
        "w_out = np.zeros((mrf[\"length_ori\"],mrf[\"length_ori\"],442))\n",
        "v_out = np.zeros((mrf[\"length_ori\"],21))\n",
        "\n",
        "mrf_ = np.reshape(mrf[\"w\"],(-1,441))\n",
        "mtx_ = np.expand_dims(mtx[\"apc\"],-1)\n",
        "\n",
        "w_out[(mtx[\"i\"],mtx[\"j\"])] = np.concatenate((mrf_,mtx_),-1)\n",
        "w_out += np.transpose(w_out,(1,0,2))\n",
        "v_out[mrf[\"v_idx\"]] = mrf[\"v\"]\n",
        "\n",
        "print(\"w_out\",w_out.shape)\n",
        "print(\"v_out\",v_out.shape)"
      ],
      "execution_count": 17,
      "outputs": [
        {
          "output_type": "stream",
          "text": [
            "w_out (62, 62, 442)\n",
            "v_out (62, 21)\n"
          ],
          "name": "stdout"
        }
      ]
    },
    {
      "metadata": {
        "id": "OPPU-RVFnIae",
        "colab_type": "text"
      },
      "cell_type": "markdown",
      "source": [
        "## GREMLIN_simple\n",
        "Sometimes it's useful to have a stripped down version of the algorithm/model, for purposes of understanding!  GREMLIN is technically an \"autoencoder\" with single dense layer and NO latent/hidden variables. The goal is to encode/decode a sequence of letters (21 categories)\n",
        "\n",
        "* loss = categoricalcrossentropy(msa,softmax(dense(msa,w,b))\n",
        " -  aka PLL (pseudo-loglikelihood)\n",
        "* w = weight\n",
        " -  aka W (2-body-term), aka co-evolution\n",
        "* b = bias \n",
        " - aka V (1-body-term), aka conservation"
      ]
    },
    {
      "metadata": {
        "id": "GXMsHDbQIfal",
        "colab_type": "code",
        "colab": {}
      },
      "cell_type": "code",
      "source": [
        "def GREMLIN_simple(msa, opt_iter=100, opt_rate=1.0, batch_size=None):\n",
        "  \n",
        "  # kill any existing tensorflow graph\n",
        "  tf.reset_default_graph()\n",
        "  \n",
        "  length = msa[\"length\"] # length of sequence\n",
        "  \n",
        "  # setting up weights\n",
        "  b = tf.get_variable(\"b\",shape=(length*states))\n",
        "\n",
        "  w_tmp = tf.get_variable(name=\"w\", shape=[length,states,length,states])\n",
        "  # set diagional to zero, make symmetric\n",
        "  w = w_tmp * np.reshape(1-np.eye(length),(length,1,length,1)) \n",
        "  w = w + tf.transpose(w,[2,3,0,1])\n",
        "  w = tf.reshape(w,(length*states,length*states))\n",
        "  \n",
        "  # input\n",
        "  MSA = tf.placeholder(tf.int32,shape=(None,length),name=\"msa\")\n",
        "  MSA_weights = tf.placeholder(tf.float32, shape=(None,), name=\"msa_weights\")\n",
        "  OH_MSA = tf.one_hot(MSA,states,dtype=tf.float32)\n",
        "  IN = tf.reshape(OH_MSA,(-1,length*states))\n",
        "  \n",
        "  # dense layer + softmax activation\n",
        "  O = tf.tensordot(IN,w,1) + b\n",
        "  O = tf.nn.softmax(tf.reshape(O,(-1,length,states)),-1)\n",
        "\n",
        "  # loss = categorical crossentropy (aka pseudo-likelihood)\n",
        "  loss = tf.reduce_sum(tf.keras.losses.categorical_crossentropy(OH_MSA,O),-1)\n",
        "  loss = tf.reduce_sum(loss*MSA_weights)\n",
        "  \n",
        "  if batch_size is not None:\n",
        "    loss = loss*(msa[\"neff\"]/tf.reduce_sum(MSA_weights))\n",
        "  \n",
        "  # add L2 regularization\n",
        "  l2_b = 0.01*tf.reduce_sum(tf.square(b))\n",
        "  l2_w = 0.01*tf.reduce_sum(tf.square(w))*0.5*(length-1)*(states-1)\n",
        "  loss = loss + l2_b + l2_w\n",
        "  \n",
        "  # setup optimizer\n",
        "  opt = opt_adam(loss,var_list=[w_tmp,b],lr=opt_rate)\n",
        "  \n",
        "  # input to placeholders\n",
        "  feed = {MSA:msa[\"msa\"],MSA_weights:msa[\"msa_weights\"]}\n",
        "  \n",
        "  with tf.Session() as sess:\n",
        "    # initialize\n",
        "    sess.run(tf.global_variables_initializer())\n",
        "    for i in range(opt_iter):\n",
        "      if batch_size is None: sess.run(opt,feed)\n",
        "      else:\n",
        "        idx = np.random.randint(0,msa[\"samples\"],size=batch_size)\n",
        "        sess.run(opt,{MSA:msa[\"msa\"][idx], MSA_weights:msa[\"msa_weights\"][idx]})\n",
        "        \n",
        "      if (i+1)%int(opt_iter/10) == 0: print((i+1),sess.run(loss,feed))\n",
        " \n",
        "    # save the b and w (aka V and W parameters of the MRF)\n",
        "    V_ = np.reshape(sess.run(b),(length,states))\n",
        "    W_ = np.reshape(sess.run(w),(length,states,length,states))\n",
        "    \n",
        "  # only return upper-right triangle of matrix (since it's symmetric)\n",
        "  tri = np.triu_indices(length,1)\n",
        "  W_ = W_[tri[0],:,tri[1],:]\n",
        "  \n",
        "  mrf = {\"v\": V_,\n",
        "         \"w\": W_,\n",
        "         \"v_idx\": msa[\"v_idx\"],\n",
        "         \"w_idx\": msa[\"w_idx\"],\n",
        "         \"length_ori\": msa[\"length_ori\"]}\n",
        "  return mrf"
      ],
      "execution_count": 0,
      "outputs": []
    },
    {
      "metadata": {
        "id": "oiDI86btvT3D",
        "colab_type": "code",
        "colab": {
          "base_uri": "https://localhost:8080/",
          "height": 187
        },
        "outputId": "92d962f3-5d50-457c-d6b3-02de11b0f222"
      },
      "cell_type": "code",
      "source": [
        "mrf_simple = GREMLIN_simple(msa,opt_iter=200)\n",
        "mtx_simple = get_mtx(mrf_simple)"
      ],
      "execution_count": 19,
      "outputs": [
        {
          "output_type": "stream",
          "text": [
            "20 31411.754\n",
            "40 27780.129\n",
            "60 27201.67\n",
            "80 27036.348\n",
            "100 26943.129\n",
            "120 26872.645\n",
            "140 26816.066\n",
            "160 26769.98\n",
            "180 26732.172\n",
            "200 26700.96\n"
          ],
          "name": "stdout"
        }
      ]
    },
    {
      "metadata": {
        "id": "uay2IYSIvYhV",
        "colab_type": "code",
        "colab": {
          "base_uri": "https://localhost:8080/",
          "height": 347
        },
        "outputId": "a4421ed4-fba3-4901-a426-a0a972c11eb9"
      },
      "cell_type": "code",
      "source": [
        "plt.scatter(mtx[\"apc\"],mtx_simple[\"apc\"])\n",
        "plt.show()"
      ],
      "execution_count": 20,
      "outputs": [
        {
          "output_type": "display_data",
          "data": {
            "image/png": "[encoded data removed]",
            "text/plain": [
              "<Figure size 576x396 with 1 Axes>"
            ]
          },
          "metadata": {
            "tags": []
          }
        }
      ]
    }
  ]
}