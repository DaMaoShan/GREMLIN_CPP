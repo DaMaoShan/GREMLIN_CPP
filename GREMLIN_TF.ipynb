{
  "nbformat": 4,
  "nbformat_minor": 0,
  "metadata": {
    "colab": {
      "name": "GREMLIN_TF_v2.ipynb",
      "version": "0.3.2",
      "provenance": [],
      "collapsed_sections": [],
      "include_colab_link": true
    },
    "kernelspec": {
      "name": "python3",
      "display_name": "Python 3"
    },
    "accelerator": "GPU"
  },
  "cells": [
    {
      "cell_type": "markdown",
      "metadata": {
        "id": "view-in-github",
        "colab_type": "text"
      },
      "source": [
        "<a href=\"https://colab.research.google.com/github/sokrypton/GREMLIN_CPP/blob/master/GREMLIN_TF.ipynb\" target=\"_parent\"><img src=\"https://colab.research.google.com/assets/colab-badge.svg\" alt=\"Open In Colab\"/></a>"
      ]
    },
    {
      "metadata": {
        "id": "mu2S86VhS-8t",
        "colab_type": "text"
      },
      "cell_type": "markdown",
      "source": [
        "# GREMLIN_TF v2\n",
        "GREMLIN implemented in tensorflow\n",
        "\n",
        "### Change log:\n",
        "\n",
        "*   Jan. 15, 2018\n",
        "  - LBFGS optimizer replaced with a modified version of the ADAM optimizer, which runs 20-50x faster on GPUs.\n",
        "  - Added option for stochastic gradient descent (via batch_size)\n",
        "  \n",
        "### Method:\n",
        "GREMLIN takes a multiple sequence alignment (MSA) and returns a Markov Random Field (MRF or Potts model). The MRF consists of a one-body term (V) that encodes conservation, and a two-body term (W) that encodes co-evolution. V is a Lx21 matrix (21 values for each position). 21 because there are 20 amino acids + gap. W is a Lx21xLx21 (21x21 values for each pair of positions), the matrix is symmetric. Where L is the (L)ength.\n",
        "\n",
        "For more details about the method see:\n",
        "[Google slides](https://docs.google.com/presentation/d/1aooxoksosSv7CWs9-ktqhUjyXR3wrgbG5a6PCr92od4/) and [Google colab](https://colab.research.google.com/drive/17RJcExuyifnd7ShTcsZGh6mBpWq0-s60)\n"
      ]
    },
    {
      "metadata": {
        "id": "yM3wyYU5SwYn",
        "colab_type": "code",
        "colab": {}
      },
      "cell_type": "code",
      "source": [
        "# ------------------------------------------------------------\n",
        "# \"THE BEERWARE LICENSE\" (Revision 42):\n",
        "# <so@g.harvard.edu> and <pkk382@g.harvard.edu> wrote this code.\n",
        "# As long as you retain this notice, you can do whatever you want\n",
        "# with this stuff. If we meet someday, and you think this stuff\n",
        "# is worth it, you can buy us a beer in return.\n",
        "# --Sergey Ovchinnikov and Peter Koo\n",
        "# ------------------------------------------------------------\n",
        "#\n",
        "# if you use this code, please cite the following papers:\n",
        "#\n",
        "# Balakrishnan, Sivaraman, Hetunandan Kamisetty, Jaime G. Carbonell,\n",
        "# Su‐In Lee, and Christopher James Langmead.\n",
        "# \"Learning generative models for protein fold families.\"\n",
        "# Proteins: Structure, Function, and Bioinformatics 79, no. 4 (2011): 1061-1078.\n",
        "#\n",
        "# Kamisetty, Hetunandan, Sergey Ovchinnikov, and David Baker.\n",
        "# \"Assessing the utility of coevolution-based residue–residue\n",
        "# contact predictions in a sequence-and structure-rich era.\"\n",
        "# Proceedings of the National Academy of Sciences (2013): 201314045."
      ],
      "execution_count": 0,
      "outputs": []
    },
    {
      "metadata": {
        "id": "NLUvPVyxb7bo",
        "colab_type": "text"
      },
      "cell_type": "markdown",
      "source": [
        "## libraries"
      ]
    },
    {
      "metadata": {
        "id": "YyJpLM_tJfrY",
        "colab_type": "code",
        "colab": {}
      },
      "cell_type": "code",
      "source": [
        "# IMPORTANT, only tested using PYTHON 3!\n",
        "import numpy as np\n",
        "import tensorflow as tf\n",
        "import matplotlib.pylab as plt\n",
        "from scipy import stats\n",
        "from scipy.spatial.distance import pdist,squareform\n",
        "import pandas as pd"
      ],
      "execution_count": 0,
      "outputs": []
    },
    {
      "metadata": {
        "id": "j0Yp7bPRmvwU",
        "colab_type": "text"
      },
      "cell_type": "markdown",
      "source": [
        "## Params"
      ]
    },
    {
      "metadata": {
        "id": "o3c7KURqmugY",
        "colab_type": "code",
        "colab": {}
      },
      "cell_type": "code",
      "source": [
        "################\n",
        "# note: if you are modifying the alphabet\n",
        "# make sure last character is \"-\" (gap)\n",
        "################\n",
        "alphabet = \"ARNDCQEGHILKMFPSTWYV-\"\n",
        "states = len(alphabet)\n",
        "a2n = {}\n",
        "for a,n in zip(alphabet,range(states)):\n",
        "  a2n[a] = n\n",
        "################\n",
        "\n",
        "def aa2num(aa):\n",
        "  '''convert aa into num'''\n",
        "  if aa in a2n: return a2n[aa]\n",
        "  else: return a2n['-']"
      ],
      "execution_count": 0,
      "outputs": []
    },
    {
      "metadata": {
        "id": "bX6GXKV3I2pm",
        "colab_type": "text"
      },
      "cell_type": "markdown",
      "source": [
        "## Functions for working with MSA"
      ]
    },
    {
      "metadata": {
        "id": "zA0Bne59SUIu",
        "colab_type": "code",
        "colab": {}
      },
      "cell_type": "code",
      "source": [
        "# from fasta\n",
        "def parse_fasta(filename,limit=-1):\n",
        "  '''function to parse fasta'''\n",
        "  header = []\n",
        "  sequence = []\n",
        "  lines = open(filename, \"r\")\n",
        "  for line in lines:\n",
        "    line = line.rstrip()\n",
        "    if line[0] == \">\":\n",
        "      if len(header) == limit:\n",
        "        break\n",
        "      header.append(line[1:])\n",
        "      sequence.append([])\n",
        "    else:\n",
        "      sequence[-1].append(line)\n",
        "  lines.close()\n",
        "  sequence = [''.join(seq) for seq in sequence]\n",
        "  return np.array(header), np.array(sequence)\n",
        "  \n",
        "def mk_msa(seqs):\n",
        "  '''converts list of sequences to numpy array'''\n",
        "  msa = []\n",
        "  for seq in seqs:\n",
        "    msa.append([aa2num(aa) for aa in seq])\n",
        "  return np.array(msa)\n",
        "\n",
        "def filt_gaps(msa,gap_cutoff=0.5):\n",
        "  '''filters alignment to remove gappy positions'''\n",
        "  tmp = np.zeros_like(msa)\n",
        "  tmp[np.where(msa == 20)] = 1\n",
        "  non_gaps = np.where(np.sum(tmp.T,-1).T/msa.shape[0] < gap_cutoff)[0]\n",
        "  return msa[:,non_gaps],non_gaps\n",
        "\n",
        "def get_eff(msa,eff_cutoff=0.8):\n",
        "  '''compute effective weight for each sequence'''\n",
        "  ncol = msa.shape[1]\n",
        "  \n",
        "  # pairwise identity\n",
        "  msa_sm = 1.0 - squareform(pdist(msa,\"hamming\"))\n",
        "\n",
        "  # weight for each sequence\n",
        "  msa_w = np.zeros_like(msa_sm)\n",
        "  msa_w[np.where(msa_sm >= eff_cutoff)] = 1\n",
        "  msa_w = 1/np.sum(msa_w,-1)\n",
        "  \n",
        "  return msa_w"
      ],
      "execution_count": 0,
      "outputs": []
    },
    {
      "metadata": {
        "id": "8R_b4PY4lRnk",
        "colab_type": "text"
      },
      "cell_type": "markdown",
      "source": [
        "## Optimizers"
      ]
    },
    {
      "metadata": {
        "id": "8L-pi5fElQ9B",
        "colab_type": "code",
        "colab": {}
      },
      "cell_type": "code",
      "source": [
        "########################################################################################\n",
        "# ADAM\n",
        "########################################################################################\n",
        "# Note: this is a modified version of adam optimizer. More specifically, we replace \"vt\"\n",
        "# with sum(g*g) instead of (g*g). Furthmore, we find that disabling the bias correction\n",
        "# (b_fix=False) speeds up convergence for our case.\n",
        "\n",
        "def opt_adam(loss, var_list=None, lr=1.0, scope=\"adam\", b1=0.9, b2=0.999, b_fix=False):\n",
        "  if var_list is None: var_list = tf.trainable_variables()  \n",
        "  with tf.variable_scope(scope):\n",
        "    gradients = tf.gradients(xs=var_list,ys=loss)\n",
        "    if b_fix: t = tf.Variable(1.0,\"t\")\n",
        "    opt = []\n",
        "    for n,(x,g) in enumerate(zip(var_list,gradients)):\n",
        "      if g is not None:\n",
        "        ini = dict(initializer=tf.zeros_initializer,trainable=False)\n",
        "        mt = tf.get_variable(\"mt_\"+str(n),shape=x.shape, **ini)\n",
        "        vt = tf.get_variable(\"vt_\"+str(n),shape=(1,), **ini)\n",
        "        mt_tmp = b1*mt+(1-b1)*g\n",
        "        vt_tmp = b2*vt+(1-b2)*tf.reduce_sum(tf.square(g))\n",
        "        lr_tmp = lr/tf.sqrt(vt_tmp)\n",
        "        \n",
        "        if b_fix: lr_tmp = lr_tmp * tf.sqrt(1-tf.pow(b2,t))/(1-tf.pow(b1,t))\n",
        "        \n",
        "        opt.append(x.assign_add(-lr_tmp * mt_tmp))\n",
        "        opt.append(vt.assign(vt_tmp))\n",
        "        opt.append(mt.assign(mt_tmp))\n",
        "        \n",
        "    if b_fix: t.assign_add(1.0)\n",
        "    return(tf.group(opt))"
      ],
      "execution_count": 0,
      "outputs": []
    },
    {
      "metadata": {
        "id": "X5c8S-gDT6kh",
        "colab_type": "code",
        "colab": {}
      },
      "cell_type": "code",
      "source": [
        "########################################################################################\n",
        "# SGD\n",
        "########################################################################################\n",
        "# for comparison we also implement a simple gradient decent optimizer\n",
        "# note: opt_sgd() == opt_adam(b1=0.0, b2=0.0, b_fix=False)\n",
        "def opt_sgd(loss, var_list=None, lr=1.0):\n",
        "\n",
        "  if var_list is None: var_list = tf.trainable_variables()  \n",
        "  gradients = tf.gradients(xs=var_list,ys=loss)\n",
        "  opt = []\n",
        "  for x,g in zip(var_list,gradients):\n",
        "    if g is not None:\n",
        "      lr_tmp = lr/tf.sqrt(tf.reduce_sum(tf.square(g)))\n",
        "      opt.append(x.assign_add(-lr_tmp * g))\n",
        "  return(tf.group(opt))"
      ],
      "execution_count": 0,
      "outputs": []
    },
    {
      "metadata": {
        "id": "fky6gk-HlFyi",
        "colab_type": "text"
      },
      "cell_type": "markdown",
      "source": [
        "## GREMLIN"
      ]
    },
    {
      "metadata": {
        "id": "BqYqlJAXVI9N",
        "colab_type": "code",
        "colab": {}
      },
      "cell_type": "code",
      "source": [
        "def GREMLIN(msa, opt_type=\"adam\", opt_iter=100, opt_rate=1.0, batch_size=None):  \n",
        "  \n",
        "  # compute effective weight for each sequence\n",
        "  msa_eff = get_eff(msa,0.8)\n",
        "\n",
        "  # compute effective number of sequences\n",
        "  neff = np.sum(msa_eff)\n",
        "  \n",
        "  print(f\"neff {neff}\")\n",
        "\n",
        "  # store shape of msa\n",
        "  nrow = msa.shape[0] # num rows (sequences)\n",
        "  ncol = msa.shape[1] # num cols (positions)\n",
        "\n",
        "  ##############################################################\n",
        "  # SETUP COMPUTE GRAPH\n",
        "  ##############################################################\n",
        "  \n",
        "  # kill any existing tensorflow graph\n",
        "  tf.reset_default_graph()\n",
        "\n",
        "  # msa (multiple sequence alignment) \n",
        "  MSA = tf.placeholder(tf.int32,shape=(None,ncol),name=\"msa\")\n",
        "  \n",
        "  # one-hot encode msa\n",
        "  OH_MSA = tf.one_hot(MSA,states)\n",
        "\n",
        "  # msa weight\n",
        "  MSA_EFF = tf.placeholder(tf.float32, shape=(None,), name=\"msa_eff\")\n",
        "\n",
        "  ini_zero = tf.zeros_initializer\n",
        "  \n",
        "  # 1-body-term of the MRF\n",
        "  V = tf.get_variable(name=\"V\", shape=[ncol,states],dtype=tf.float32, initializer=ini_zero)\n",
        "  # 2-body-term of the MRF\n",
        "  W_tmp = tf.get_variable(name=\"W_tmp\", shape=[states,states,ncol,ncol], dtype=tf.float32, initializer=ini_zero)\n",
        "  \n",
        "  # set diagional to zero, symmetrize and transpose to [ncol,states,ncol,states]\n",
        "  W = W_tmp\n",
        "  W = W - tf.matrix_band_part(W,0,0)\n",
        "  W = W + tf.transpose(W,[1,0,3,2])\n",
        "  W = tf.transpose(W,[2,0,3,1])\n",
        "  \n",
        "  def L2(x): return tf.reduce_sum(tf.square(x))\n",
        "  \n",
        "  ########################################\n",
        "  # V\n",
        "  ########################################\n",
        "  def fx_V(V):\n",
        "    # Note: we find optimizing V first, requires less steps for V+W convergence!\n",
        "    H_V = tf.reduce_sum(tf.multiply(OH_MSA,V),axis=-1)\n",
        "    Z_V = tf.reduce_logsumexp(V,axis=-1)\n",
        "    VLL = tf.reduce_sum(H_V-Z_V,axis=1)\n",
        "    \n",
        "    L2_V = 0.01 * L2(V)\n",
        "    return -tf.reduce_sum(VLL*MSA_EFF)*(neff/tf.reduce_sum(MSA_EFF)) + L2_V\n",
        "    \n",
        "  ########################################\n",
        "  # V + W\n",
        "  ########################################\n",
        "\n",
        "  def fx_VW(V,W):\n",
        "    VW = V + tf.tensordot(OH_MSA,W,2)\n",
        "\n",
        "    # hamiltonian\n",
        "    H = tf.reduce_sum(tf.multiply(OH_MSA,VW),axis=2)\n",
        "    # local Z (parition function)\n",
        "    Z = tf.reduce_logsumexp(VW,axis=2)\n",
        "\n",
        "    # Psuedo-Log-Likelihood\n",
        "    PLL = tf.reduce_sum(H - Z, axis=1)\n",
        "\n",
        "    # Regularization\n",
        "    L2_V = 0.01 * L2(V)\n",
        "    L2_W = 0.01 * L2(W) * 0.5 * tf.constant((ncol-1)*(states-1),tf.float32)\n",
        "\n",
        "    # loss function to minimize\n",
        "    return -tf.reduce_sum(PLL*MSA_EFF)*(neff/tf.reduce_sum(MSA_EFF)) + L2_V + L2_W\n",
        "  \n",
        "  loss_V = fx_V(V)\n",
        "  loss_VW = fx_VW(V,W)\n",
        "\n",
        "  ##############################################################\n",
        "  # MINIMIZE LOSS FUNCTION\n",
        "  ##############################################################\n",
        "  if opt_type == \"adam\":  \n",
        "    opt_V = opt_adam(loss_V,var_list=[V],lr=opt_rate,scope=\"V\")\n",
        "    opt_VW = opt_adam(loss_VW,var_list=[V,W_tmp],lr=opt_rate,scope=\"VW\")\n",
        "    \n",
        "  if opt_type == \"sgd\":  \n",
        "    opt_V = opt_sgd(loss_V,var_list=[V],lr=opt_rate)\n",
        "    opt_VW = opt_sgd(loss_VW,var_list=[V,W_tmp],lr=opt_rate)\n",
        "\n",
        "    \n",
        "  with tf.Session() as sess:\n",
        "    # initialize variables V and W\n",
        "    sess.run(tf.global_variables_initializer())\n",
        "\n",
        "    if opt_type == \"lbfgs\":\n",
        "      lbfgs = tf.contrib.opt.ScipyOptimizerInterface\n",
        "      # optimize V\n",
        "      opt = lbfgs(loss_V,method=\"L-BFGS-B\",options={'maxiter': opt_iter},var_list=[V])\n",
        "      opt.minimize(sess,{MSA:msa,MSA_EFF:msa_eff})\n",
        "      \n",
        "      # optimize V+W\n",
        "      opt = lbfgs(loss_VW,method=\"L-BFGS-B\",options={'maxiter': opt_iter},var_list=[V,W_tmp])\n",
        "      opt.minimize(sess,{MSA:msa,MSA_EFF:msa_eff})\n",
        "      \n",
        "    if opt_type == \"adam\" or opt_type == \"sgd\":\n",
        "      opt_list = [[loss_V,opt_V],[loss_VW,opt_VW]]\n",
        "      for n,(loss,opt) in enumerate(opt_list):\n",
        "        for i in range(opt_iter):\n",
        "          if batch_size is None:\n",
        "            sess.run(opt,{MSA:msa,MSA_EFF:msa_eff})\n",
        "          else:\n",
        "            idx = np.random.randint(0,len(msa),size=batch_size)\n",
        "            sess.run(opt,{MSA:msa[idx],MSA_EFF:msa_eff[idx]})\n",
        "            \n",
        "          if (n==0 and (i+1)==opt_iter) or (n==1 and (i+1)%int(opt_iter/10)==0):\n",
        "            print((i+1),sess.run(loss,{MSA:msa,MSA_EFF:msa_eff}))\n",
        " \n",
        "    # save the V and W parameters of the MRF\n",
        "    V_ = sess.run(V)\n",
        "    W_ = sess.run(W)\n",
        "    \n",
        "  mrf = {\"v\": V_,\n",
        "         \"w\": W_}\n",
        "  \n",
        "  return mrf, neff"
      ],
      "execution_count": 0,
      "outputs": []
    },
    {
      "metadata": {
        "id": "mppg0JLtP25z",
        "colab_type": "text"
      },
      "cell_type": "markdown",
      "source": [
        "## EXAMPLE"
      ]
    },
    {
      "metadata": {
        "id": "bnigmLmAlyWv",
        "colab_type": "code",
        "colab": {}
      },
      "cell_type": "code",
      "source": [
        "# download example fasta MSA\n",
        "!wget -q -nc https://gremlin2.bakerlab.org/db/PDB_EXP/fasta/4FAZA.fas"
      ],
      "execution_count": 0,
      "outputs": []
    },
    {
      "metadata": {
        "id": "osaZwTSMOicF",
        "colab_type": "code",
        "colab": {}
      },
      "cell_type": "code",
      "source": [
        "# ===============================================================================\n",
        "# PREP MSA\n",
        "# ===============================================================================\n",
        "# parse fasta\n",
        "names, seqs = parse_fasta(\"4FAZA.fas\")\n",
        "\n",
        "# convert seqs to array\n",
        "msa_ori = mk_msa(seqs)\n",
        "\n",
        "# remove positions with more than > 50% gaps\n",
        "# note: msa_idx stores the indices to the original msa these \n",
        "# will be import for mapping/renumbering all results later\n",
        "msa, msa_idx = filt_gaps(msa_ori,0.5)"
      ],
      "execution_count": 0,
      "outputs": []
    },
    {
      "metadata": {
        "id": "CoBRuqmVVrbD",
        "colab_type": "code",
        "outputId": "f18bc97e-b69e-425b-8cef-3011bc91e181",
        "colab": {
          "base_uri": "https://localhost:8080/",
          "height": 255
        }
      },
      "cell_type": "code",
      "source": [
        "%%time\n",
        "# ===============================================================================\n",
        "# RUN GREMLIN\n",
        "# ===============================================================================\n",
        "# Note: the original GREMLIN uses the \"lbfgs\" optimizer which is EXTREMELY slow \n",
        "# in tensorflow. The modified adam/sgd optimizers are much faster, but may \n",
        "# require adjusting number of iterations (opt_iter) to converge to the same \n",
        "# solution. To switch back to the original, set opt_type=\"lbfgs\".\n",
        "# ===============================================================================\n",
        "mrf, neff = GREMLIN(msa[:,:],opt_type=\"adam\",opt_iter=100)"
      ],
      "execution_count": 10,
      "outputs": [
        {
          "output_type": "stream",
          "text": [
            "neff 502.54895584948974\n",
            "100 50646.43\n",
            "10 29452.375\n",
            "20 27954.896\n",
            "30 26962.39\n",
            "40 26704.023\n",
            "50 26608.541\n",
            "60 26568.926\n",
            "70 26552.254\n",
            "80 26544.457\n",
            "90 26539.574\n",
            "100 26536.234\n",
            "CPU times: user 2.33 s, sys: 633 ms, total: 2.96 s\n",
            "Wall time: 2.81 s\n"
          ],
          "name": "stdout"
        }
      ]
    },
    {
      "metadata": {
        "id": "jCrfC2Um4xww",
        "colab_type": "text"
      },
      "cell_type": "markdown",
      "source": [
        "## Explore the contact map\n",
        "### Contact prediction:\n",
        "\n",
        "For contact prediction, the W matrix is reduced to a LxL matrix (by taking the L2norm is taken of each 20x20, the gaps are excluded). In the code below, you can access this as mtx[\"raw\"]. Further correction (average product correction) is then performed to the mtx[\"raw\"] to remove the effects of entropy, mtx[\"apc\"]. The relative ranking of mtx[\"apc\"] is used to assess importance. When there is enough effective sequences (>1000), we find that the top 1.0L contacts are ~90% accurate! When the number of effective sequences is lower, NN can help clean noise and fill in missing contacts.\n"
      ]
    },
    {
      "metadata": {
        "id": "XxgQArVUPyPH",
        "colab_type": "text"
      },
      "cell_type": "markdown",
      "source": [
        "## Functions for extracting contacts from MRF"
      ]
    },
    {
      "metadata": {
        "id": "nMxp7up_P1_q",
        "colab_type": "code",
        "colab": {}
      },
      "cell_type": "code",
      "source": [
        "###################\n",
        "def normalize(x):\n",
        "  x = stats.boxcox(x - np.amin(x) + 1.0)[0]\n",
        "  x_mean = np.mean(x)\n",
        "  x_std = np.std(x)\n",
        "  return((x-x_mean)/x_std)\n",
        "\n",
        "def get_mtx(mrf,idx=None):\n",
        "  '''get mtx given mrf'''\n",
        "  \n",
        "  # if no index provide, use indices from input mrf\n",
        "  if idx is None:\n",
        "    idx = np.arange(0,mrf[\"v\"].shape[0])\n",
        "  \n",
        "  # l2norm of 20x20 matrices (note: we ignore gaps)\n",
        "  raw = np.sqrt(np.sum(np.square(mrf[\"w\"][:,:-1,:,:-1]),(1,3)))\n",
        "\n",
        "  # apc (average product correction)\n",
        "  ap = np.sum(raw,0,keepdims=True)*np.sum(raw,1,keepdims=True)/np.sum(raw)\n",
        "  apc = raw - ap\n",
        "  np.fill_diagonal(apc,0)\n",
        "  \n",
        "  # Note: the indices of the GREMLN MRF output do NOT match the indices \n",
        "  # of the MSA because some of the positions were removed due to gaps\n",
        "  # the following fixes the indices\n",
        "  \n",
        "  cut_idx = np.triu_indices_from(apc,1)\n",
        "  mtx = {\"i\": idx[cut_idx[0]],\n",
        "         \"j\": idx[cut_idx[1]],\n",
        "         \"raw\": raw[cut_idx],\n",
        "         \"apc\": apc[cut_idx],\n",
        "         \"zscore\": normalize(apc[cut_idx])}\n",
        "  return mtx\n",
        "\n",
        "def plot_mtx(mtx):\n",
        "  '''plot the mtx'''\n",
        "  max_j = mtx[\"j\"].max()+1\n",
        "  tmp = np.zeros((max_j,max_j))\n",
        "  tmp[(mtx[\"i\"],mtx[\"j\"])] = mtx[\"zscore\"]\n",
        "\n",
        "  plt.figure(figsize=(5,5))\n",
        "  plt.imshow(tmp+tmp.T, cmap='Blues', interpolation='none', vmin=1, vmax=3)\n",
        "  plt.grid(False)\n",
        "  plt.show()"
      ],
      "execution_count": 0,
      "outputs": []
    },
    {
      "metadata": {
        "id": "RSleviAVPJ36",
        "colab_type": "code",
        "outputId": "c0066e94-02d8-48d2-b2d0-444adf7239bd",
        "colab": {
          "base_uri": "https://localhost:8080/",
          "height": 321
        }
      },
      "cell_type": "code",
      "source": [
        "mtx = get_mtx(mrf,msa_idx)  \n",
        "plot_mtx(mtx)"
      ],
      "execution_count": 12,
      "outputs": [
        {
          "output_type": "display_data",
          "data": {
            "image/png": "[encoded data removed]",
            "text/plain": [
              "<matplotlib.figure.Figure at 0x7f8b59de7c88>"
            ]
          },
          "metadata": {
            "tags": []
          }
        }
      ]
    },
    {
      "metadata": {
        "id": "qWaTHLTH5rGw",
        "colab_type": "text"
      },
      "cell_type": "markdown",
      "source": [
        "## Look at top co-evolving residue pairs"
      ]
    },
    {
      "metadata": {
        "id": "9A2yeOJ8uPNM",
        "colab_type": "code",
        "colab": {}
      },
      "cell_type": "code",
      "source": [
        "# load mtx into pandas dataframe\n",
        "pd_mtx = pd.DataFrame(mtx,columns=[\"i\",\"j\",\"zscore\"])"
      ],
      "execution_count": 0,
      "outputs": []
    },
    {
      "metadata": {
        "id": "0zItYX5lvNJS",
        "colab_type": "code",
        "outputId": "6688759e-a641-476a-bc6a-c6ea7e64ad0e",
        "colab": {
          "base_uri": "https://localhost:8080/",
          "height": 359
        }
      },
      "cell_type": "code",
      "source": [
        "# get contacts with sequence seperation > 5\n",
        "# sort by zscore, show top 10\n",
        "top = pd_mtx.loc[pd_mtx['j'] - pd_mtx['i'] > 5].sort_values(\"zscore\",ascending=False)\n",
        "top.head(10)"
      ],
      "execution_count": 14,
      "outputs": [
        {
          "output_type": "execute_result",
          "data": {
            "text/html": [
              "<div>\n",
              "<style scoped>\n",
              "    .dataframe tbody tr th:only-of-type {\n",
              "        vertical-align: middle;\n",
              "    }\n",
              "\n",
              "    .dataframe tbody tr th {\n",
              "        vertical-align: top;\n",
              "    }\n",
              "\n",
              "    .dataframe thead th {\n",
              "        text-align: right;\n",
              "    }\n",
              "</style>\n",
              "<table border=\"1\" class=\"dataframe\">\n",
              "  <thead>\n",
              "    <tr style=\"text-align: right;\">\n",
              "      <th></th>\n",
              "      <th>i</th>\n",
              "      <th>j</th>\n",
              "      <th>zscore</th>\n",
              "    </tr>\n",
              "  </thead>\n",
              "  <tbody>\n",
              "    <tr>\n",
              "      <th>1056</th>\n",
              "      <td>21</td>\n",
              "      <td>28</td>\n",
              "      <td>2.974916</td>\n",
              "    </tr>\n",
              "    <tr>\n",
              "      <th>881</th>\n",
              "      <td>16</td>\n",
              "      <td>58</td>\n",
              "      <td>2.960092</td>\n",
              "    </tr>\n",
              "    <tr>\n",
              "      <th>142</th>\n",
              "      <td>2</td>\n",
              "      <td>26</td>\n",
              "      <td>2.941696</td>\n",
              "    </tr>\n",
              "    <tr>\n",
              "      <th>999</th>\n",
              "      <td>19</td>\n",
              "      <td>50</td>\n",
              "      <td>2.922103</td>\n",
              "    </tr>\n",
              "    <tr>\n",
              "      <th>820</th>\n",
              "      <td>15</td>\n",
              "      <td>41</td>\n",
              "      <td>2.858699</td>\n",
              "    </tr>\n",
              "    <tr>\n",
              "      <th>488</th>\n",
              "      <td>8</td>\n",
              "      <td>45</td>\n",
              "      <td>2.820720</td>\n",
              "    </tr>\n",
              "    <tr>\n",
              "      <th>251</th>\n",
              "      <td>4</td>\n",
              "      <td>22</td>\n",
              "      <td>2.814801</td>\n",
              "    </tr>\n",
              "    <tr>\n",
              "      <th>1278</th>\n",
              "      <td>27</td>\n",
              "      <td>37</td>\n",
              "      <td>2.748682</td>\n",
              "    </tr>\n",
              "    <tr>\n",
              "      <th>934</th>\n",
              "      <td>18</td>\n",
              "      <td>26</td>\n",
              "      <td>2.732130</td>\n",
              "    </tr>\n",
              "    <tr>\n",
              "      <th>326</th>\n",
              "      <td>5</td>\n",
              "      <td>42</td>\n",
              "      <td>2.693025</td>\n",
              "    </tr>\n",
              "  </tbody>\n",
              "</table>\n",
              "</div>"
            ],
            "text/plain": [
              "       i   j    zscore\n",
              "1056  21  28  2.974916\n",
              "881   16  58  2.960092\n",
              "142    2  26  2.941696\n",
              "999   19  50  2.922103\n",
              "820   15  41  2.858699\n",
              "488    8  45  2.820720\n",
              "251    4  22  2.814801\n",
              "1278  27  37  2.748682\n",
              "934   18  26  2.732130\n",
              "326    5  42  2.693025"
            ]
          },
          "metadata": {
            "tags": []
          },
          "execution_count": 14
        }
      ]
    },
    {
      "metadata": {
        "id": "wqG93dC12CKx",
        "colab_type": "text"
      },
      "cell_type": "markdown",
      "source": [
        "## Explore the MRF"
      ]
    },
    {
      "metadata": {
        "id": "k6BsheyNx3ID",
        "colab_type": "code",
        "outputId": "41a79fe8-d072-4b88-955a-7c38f74d8344",
        "colab": {
          "base_uri": "https://localhost:8080/",
          "height": 333
        }
      },
      "cell_type": "code",
      "source": [
        "def plot_v(mrf,idx=None):\n",
        "  \n",
        "  # if no index provide, use indices from input mrf\n",
        "  if idx is None:\n",
        "    idx = np.arange(0,mrf[\"v\"].shape[0])\n",
        "  \n",
        "  al_a = list(alphabet)\n",
        "  v = mrf[\"v\"].T\n",
        "  mx = np.max((v.max(),np.abs(v.min())))\n",
        "  plt.figure(figsize=(v.shape[1]/4,states/4))\n",
        "  plt.imshow(-v,cmap='bwr',vmin=-mx,vmax=mx)\n",
        "  plt.xticks(np.arange(v.shape[1]))\n",
        "  plt.yticks(np.arange(0,21))\n",
        "  plt.grid(False)\n",
        "  ax = plt.gca()\n",
        "  ax.xaxis.set_major_formatter(plt.FuncFormatter(lambda x,y: idx[x])) \n",
        "  ax.yaxis.set_major_formatter(plt.FuncFormatter(lambda x,y: al_a[x]))\n",
        "  \n",
        "plot_v(mrf,msa_idx)"
      ],
      "execution_count": 15,
      "outputs": [
        {
          "output_type": "display_data",
          "data": {
            "image/png": "[encoded data removed]",
            "text/plain": [
              "<matplotlib.figure.Figure at 0x7f8b52219fd0>"
            ]
          },
          "metadata": {
            "tags": []
          }
        }
      ]
    },
    {
      "metadata": {
        "id": "OER2wALRvTkK",
        "colab_type": "code",
        "outputId": "9ed52ee5-e5a1-4443-b546-1045903cf7c4",
        "colab": {
          "base_uri": "https://localhost:8080/",
          "height": 679
        }
      },
      "cell_type": "code",
      "source": [
        "def plot_w(mrf,i,j,idx=None):\n",
        "  # if no index provide, use indices from input mrf\n",
        "  if idx is None:\n",
        "    idx = np.arange(0,mrf[\"v\"].shape[0])\n",
        "    \n",
        "  al_a = list(alphabet)\n",
        "  \n",
        "  ref = {}\n",
        "  for n,m in zip(idx,range(idx.shape[0])):\n",
        "    ref[n] = m\n",
        "  \n",
        "  w = mrf[\"w\"][ref[i],:,ref[j],:]\n",
        "  mx = np.max((w.max(),np.abs(w.min())))\n",
        "  plt.figure(figsize=(states/4,states/4))\n",
        "  plt.imshow(-w,cmap='bwr',vmin=-mx,vmax=mx)\n",
        "  plt.xticks(np.arange(0,states))\n",
        "  plt.yticks(np.arange(0,states))\n",
        "  plt.grid(False)\n",
        "  ax = plt.gca()\n",
        "  ax.xaxis.set_major_formatter(plt.FuncFormatter(lambda x,y: al_a[x])) \n",
        "  ax.yaxis.set_major_formatter(plt.FuncFormatter(lambda x,y: al_a[x]))\n",
        "  plt.title(f\"W for positions {i} and {j}\")\n",
        "  plt.show()\n",
        "\n",
        "for n in range(2):\n",
        "  i = int(top.iloc[n][\"i\"])\n",
        "  j = int(top.iloc[n][\"j\"])\n",
        "  plot_w(mrf,i,j,msa_idx)"
      ],
      "execution_count": 16,
      "outputs": [
        {
          "output_type": "display_data",
          "data": {
            "image/png": "[encoded data removed]",
            "text/plain": [
              "<matplotlib.figure.Figure at 0x7f8b521e0b70>"
            ]
          },
          "metadata": {
            "tags": []
          }
        },
        {
          "output_type": "display_data",
          "data": {
            "image/png": "[encoded data removed]",
            "text/plain": [
              "<matplotlib.figure.Figure at 0x7f8b520984a8>"
            ]
          },
          "metadata": {
            "tags": []
          }
        }
      ]
    },
    {
      "metadata": {
        "id": "xv2anXSUX9kr",
        "colab_type": "text"
      },
      "cell_type": "markdown",
      "source": [
        "## validating output\n",
        "(comparing to known output from GREMLIN_cpp version)"
      ]
    },
    {
      "metadata": {
        "id": "RBIvsIQ9X74s",
        "colab_type": "code",
        "colab": {}
      },
      "cell_type": "code",
      "source": [
        "!wget -q -nc http://files.ipd.uw.edu/krypton/4FAZA.out"
      ],
      "execution_count": 0,
      "outputs": []
    },
    {
      "metadata": {
        "id": "M7fK03GFX_3q",
        "colab_type": "code",
        "colab": {
          "base_uri": "https://localhost:8080/",
          "height": 347
        },
        "outputId": "b7fd8c20-1abb-4b61-b80d-016cc802ac78"
      },
      "cell_type": "code",
      "source": [
        "pd_test = pd.read_table(\"4FAZA.out\",sep=\" \")\n",
        "plt.scatter(pd_test[\"apc\"],mtx[\"apc\"])\n",
        "plt.show()"
      ],
      "execution_count": 18,
      "outputs": [
        {
          "output_type": "display_data",
          "data": {
            "image/png": "[encoded data removed]",
            "text/plain": [
              "<matplotlib.figure.Figure at 0x7f8b52192748>"
            ]
          },
          "metadata": {
            "tags": []
          }
        }
      ]
    },
    {
      "metadata": {
        "id": "-dw9TGERe3cw",
        "colab_type": "text"
      },
      "cell_type": "markdown",
      "source": [
        "### Input to NN (Neural Networks)\n",
        "\n",
        "The \"apc\" values are typically used as input to the NN for contact cleaning or structure prediction. Though in recent advances (aka DeepMind/Alphafold), the entire MRF was used as the input. More specificially LxLx442. The 442 channels are the 21x21 + (raw and/or apc) value."
      ]
    },
    {
      "metadata": {
        "id": "nqbDMKdsYG7Q",
        "colab_type": "code",
        "colab": {
          "base_uri": "https://localhost:8080/",
          "height": 34
        },
        "outputId": "c1266e6c-14e1-45c3-d744-015a6f0047f1"
      },
      "cell_type": "code",
      "source": [
        "# transpose to (L,L,21,21)\n",
        "mrf_tmp = np.transpose(mrf[\"w\"],(0,2,1,3))\n",
        "\n",
        "# triu to ((L*(L-1)/2),21,21) since symmetric\n",
        "mrf_idx = np.triu_indices(len(mrf_tmp),k=1)\n",
        "mrf_tmp = mrf_tmp[mrf_idx]\n",
        "\n",
        "# reshape to (-1,441)\n",
        "mrf_tmp = np.reshape(mrf_tmp,(-1,441))\n",
        "\n",
        "# add apc channel\n",
        "apc_tmp = np.expand_dims(mtx[\"apc\"],-1)\n",
        "mrf_tmp = np.concatenate((mrf_tmp,apc_tmp),-1)\n",
        "\n",
        "# fill in missing positions (due to gap removal) with zeros\n",
        "idx = (msa_idx[mrf_idx[0]],msa_idx[mrf_idx[1]])\n",
        "len_full = len(seqs[0])\n",
        "mrf_full = np.zeros((len_full,len_full,442))\n",
        "mrf_full[idx] = mrf_tmp\n",
        "mrf_full += np.transpose(mrf_full,(1,0,2))\n",
        "\n",
        "print(mrf_full.shape)"
      ],
      "execution_count": 20,
      "outputs": [
        {
          "output_type": "stream",
          "text": [
            "(62, 62, 442)\n"
          ],
          "name": "stdout"
        }
      ]
    },
    {
      "metadata": {
        "id": "n9v4Y9BpgTXQ",
        "colab_type": "code",
        "colab": {
          "base_uri": "https://localhost:8080/",
          "height": 348
        },
        "outputId": "ff3a8795-0e9d-4da1-82f0-bc3ef4f7ee9d"
      },
      "cell_type": "code",
      "source": [
        "plt.imshow(mrf_full[:,:,-1])\n",
        "plt.grid(False)\n",
        "plt.show()"
      ],
      "execution_count": 22,
      "outputs": [
        {
          "output_type": "display_data",
          "data": {
            "image/png": "[encoded data removed]",
            "text/plain": [
              "<matplotlib.figure.Figure at 0x7f8b51ef3358>"
            ]
          },
          "metadata": {
            "tags": []
          }
        }
      ]
    }
  ]
}